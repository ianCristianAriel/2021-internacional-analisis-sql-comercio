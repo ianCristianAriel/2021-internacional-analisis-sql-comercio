{
 "cells": [
  {
   "cell_type": "markdown",
   "metadata": {},
   "source": [
    "## GENERAL"
   ]
  },
  {
   "cell_type": "markdown",
   "metadata": {},
   "source": [
    "### LIBRERIAS"
   ]
  },
  {
   "cell_type": "code",
   "execution_count": 11,
   "metadata": {},
   "outputs": [],
   "source": [
    "# Importo las librerías necesarias\n",
    "import pandas as pd  # Para el manejo de dataframes\n",
    "import numpy as np  # Para la creación de arrays y el manejo de estadísticas\n",
    "import scipy.stats as st  # Para la obtención de estadísticas\n",
    "import sqlite3  # Para trabajar con bases de datos SQLite\n",
    "import plotly.express as px"
   ]
  },
  {
   "cell_type": "markdown",
   "metadata": {},
   "source": [
    "### BBDD INUPDE"
   ]
  },
  {
   "cell_type": "code",
   "execution_count": 12,
   "metadata": {},
   "outputs": [],
   "source": [
    "# Establezco la conexión a la base de datos 'OPERACIONES.db' y creo un cursor\n",
    "db_inupde = sqlite3.connect('../../data/local_managers/inupde.db')\n",
    "cursor = db_inupde.cursor()"
   ]
  },
  {
   "cell_type": "markdown",
   "metadata": {},
   "source": [
    "### QUERIES DML"
   ]
  },
  {
   "cell_type": "code",
   "execution_count": 13,
   "metadata": {},
   "outputs": [],
   "source": [
    "def query_dml(query):\n",
    "    try:\n",
    "            if isinstance(query, list):\n",
    "                for consulta in query:\n",
    "                    cursor.executescript(consulta)\n",
    "            else:\n",
    "                try:\n",
    "                    cursor.executescript(query)\n",
    "                except:\n",
    "                    cursor.execute(query)\n",
    "            db_world.commit()\n",
    "\n",
    "    except Exception as e:\n",
    "        print('Hubo un error al realizar el query en la base de datos:', str(e))"
   ]
  },
  {
   "cell_type": "markdown",
   "metadata": {},
   "source": [
    "#### INSERT"
   ]
  },
  {
   "cell_type": "code",
   "execution_count": 14,
   "metadata": {},
   "outputs": [],
   "source": [
    "# Abre y lee el archivo .sql que contiene las consultas de inserción\n",
    "with open('../../data/inupde.sql', 'r') as file:\n",
    "    sql_script = file.read()\n",
    "\n",
    "# Divide el script en consultas individuales\n",
    "consultas = sql_script.split('),(')\n",
    "\n",
    "# Filtra y ejecuta las consultas con 6 comillas simples\n",
    "for consulta in consultas[2:]:\n",
    "    try:\n",
    "        consulta_sql = \"INSERT INTO `clientes` (id_cliente, dni, nombre, apellido, genero, fecha_nacimiento, mail, movil, domicilio, barrio, nacionalidad) VALUES (\" + consulta + \")\"\n",
    "        cursor.execute(consulta_sql)\n",
    "    except:\n",
    "        pass"
   ]
  },
  {
   "cell_type": "markdown",
   "metadata": {},
   "source": [
    "### BBDD WORLD\n"
   ]
  },
  {
   "cell_type": "code",
   "execution_count": 15,
   "metadata": {},
   "outputs": [],
   "source": [
    "# Establezco la conexión a la base de datos 'OPERACIONES.db' y creo un cursor\n",
    "db_world = sqlite3.connect('../../data/local_managers/world.db')\n",
    "cursor = db_world.cursor()"
   ]
  },
  {
   "cell_type": "markdown",
   "metadata": {},
   "source": [
    "#### INSERT\n"
   ]
  },
  {
   "cell_type": "markdown",
   "metadata": {},
   "source": [
    "##### TABLA CITY"
   ]
  },
  {
   "cell_type": "code",
   "execution_count": 16,
   "metadata": {},
   "outputs": [],
   "source": [
    "# Abre y lee el archivo .sql que contiene las consultas de inserción\n",
    "with open('../../data/world_city.sql', 'r') as file:\n",
    "    sql_script = file.read()\n",
    "\n",
    "# Divide el script en instrucciones individuales\n",
    "sql_statements = sql_script.split(';')\n",
    "\n",
    "# Ejecuta cada declaración SQL\n",
    "for statement in sql_statements:\n",
    "    statement = statement.strip()\n",
    "    if statement:\n",
    "        query_dml(statement)"
   ]
  },
  {
   "cell_type": "markdown",
   "metadata": {},
   "source": [
    "##### TABLA COUNTRY"
   ]
  },
  {
   "cell_type": "code",
   "execution_count": 17,
   "metadata": {},
   "outputs": [
    {
     "name": "stdout",
     "output_type": "stream",
     "text": [
      "Hubo un error al realizar el query en la base de datos: near \"sRepublic\": syntax error\n",
      "Hubo un error al realizar el query en la base de datos: near \"ahau\": syntax error\n"
     ]
    }
   ],
   "source": [
    "# Abre y lee el archivo .sql que contiene las consultas de inserción\n",
    "with open('../../data/world_country.sql', 'r') as file:\n",
    "    sql_script = file.read()\n",
    "\n",
    "# Divide el script en instrucciones individuales\n",
    "sql_statements = sql_script.split(';')\n",
    "\n",
    "# Ejecuta cada declaración SQL\n",
    "for statement in sql_statements:\n",
    "    statement = statement.strip()\n",
    "    if statement:\n",
    "        query_dml(statement)"
   ]
  },
  {
   "cell_type": "markdown",
   "metadata": {},
   "source": [
    "##### TABLA COUNTRY LANGUAGE"
   ]
  },
  {
   "cell_type": "code",
   "execution_count": 18,
   "metadata": {},
   "outputs": [],
   "source": [
    "# Abre y lee el archivo .sql que contiene las consultas de inserción\n",
    "with open('../../data/world_country_language.sql', 'r') as file:\n",
    "    sql_script = file.read()\n",
    "\n",
    "# Divide el script en instrucciones individuales\n",
    "sql_statements = sql_script.split(';')\n",
    "\n",
    "# Ejecuta cada declaración SQL\n",
    "for statement in sql_statements:\n",
    "    statement = statement.strip()\n",
    "    if statement:\n",
    "        query_dml(statement)"
   ]
  },
  {
   "cell_type": "markdown",
   "metadata": {},
   "source": [
    "#### CIERRE"
   ]
  },
  {
   "cell_type": "code",
   "execution_count": 21,
   "metadata": {},
   "outputs": [],
   "source": [
    "db_world.commit()\n",
    "db_world.close()"
   ]
  },
  {
   "cell_type": "markdown",
   "metadata": {},
   "source": [
    "##### GUIA DE EJERSICIOS"
   ]
  },
  {
   "cell_type": "code",
   "execution_count": 23,
   "metadata": {},
   "outputs": [
    {
     "name": "stdout",
     "output_type": "stream",
     "text": [
      "Hubo un error al realizar el query en la base de datos: Cannot operate on a closed database.\n",
      "Hubo un error al realizar el query en la base de datos: Cannot operate on a closed database.\n",
      "Hubo un error al realizar el query en la base de datos: Cannot operate on a closed database.\n"
     ]
    }
   ],
   "source": [
    "db_inupde = sqlite3.connect('../../data/local_managers/inupde.db')\n",
    "cursor = db_inupde.cursor()\n",
    "\n",
    "# 51. Insertar un nuevo cliente con los siguientes datos:\n",
    "query_dml(\"INSERT INTO clientes (DNI, nombre, apellido, genero, Fecha_nacimiento, Mail, Movil, domicilio, Barrio, Nacionalidad) VALUES ('12169851', 'Luis Enrique', 'Pérez', 'HOMBRE', '1954-06-01', 'perez_luisenrique@ma1l.com', '1157319468', 'Pujol 416', 'Caballito', 'Uruguay')\")\n",
    "\n",
    "# 52. Insertar los siguientes clientes en una sola consulta:\n",
    "query_dml([\n",
    "    \"INSERT INTO clientes (DNI, nombre, apellido, genero, Fecha_nacimiento, Mail, Movil, domicilio, Barrio, Nacionalidad) VALUES ('17278290','Florencia','Santos','MUJER','1963-07-12','flor.santos@ma1l.com','1148434346','Piran 3015','Villa Urquiza','Argentina')\",\n",
    "    \"INSERT INTO clientes (DNI, nombre, apellido, genero, Fecha_nacimiento, Mail, Movil, domicilio, Barrio, Nacionalidad) VALUES ('16839283','Luisa Nina','Escudero','MUJER','1962-03-22','lulu62@hushma1l.com','1175940343','Superi 348 1º A','Colegiales','Colombia')\",\n",
    "    \"INSERT INTO clientes (DNI, nombre, apellido, genero, Fecha_nacimiento, Mail, Movil, domicilio, Barrio, Nacionalidad) VALUES ('19164274','Carlos Alberto','Medina','HOMBRE','1966-04-26','medinacarlosalberto@z0h0.com','1123423451','Mexico 2121','Balvanera','Argentina')\"\n",
    "])\n",
    "\n",
    "# 53. Insertar una cliente llamada María Sol González:\n",
    "query_dml(\"INSERT INTO clientes (DNI, nombre, apellido, genero, Fecha_nacimiento, Mail, Movil, domicilio, Barrio, Nacionalidad) VALUES ('36.427.254', 'Maria Sol', 'Gonzalez', 'MUJER', '1992-08-15', 'ma.gon54@gma1l.com', '1136782013', 'Gurruchaga 243', 'Villa Crespo', 'Argentina')\")"
   ]
  },
  {
   "cell_type": "markdown",
   "metadata": {},
   "source": [
    "#### UPDATE"
   ]
  },
  {
   "cell_type": "code",
   "execution_count": null,
   "metadata": {},
   "outputs": [],
   "source": [
    "# 54. Modificar el apellido de la cliente 85 por 'Chaves'.\n",
    "query_dml(\"UPDATE clientes SET apellido = 'Chaves' WHERE ID_cliente = 85;\", operacion='update')\n",
    "\n",
    "# 55. Agregar un cero a la izquierda de todos los DNI con exactamente siete cifras.\n",
    "query_dml(\"UPDATE clientes SET dni = substr('0' || dni, -8) WHERE length(dni) = 7;\", operacion='update')\n",
    "\n",
    "# 56. Agregar una tilde a todos los clientes llamados 'Nicolas' como único nombre para que el mismo pase a ser 'Nicolás'.\n",
    "query_dml(\"UPDATE clientes SET nombre = 'Nicolás' WHERE nombre = 'Nicolas';\", operacion='update')\n",
    "\n",
    "# 57. Poner en mayúsculas los apellidos de los clientes cuya nacionalidad no sea 'Argentina'.\n",
    "query_dml(\"UPDATE clientes SET apellido = upper(apellido) WHERE nacionalidad != 'Argentina';\", operacion='update')"
   ]
  },
  {
   "cell_type": "markdown",
   "metadata": {},
   "source": [
    "#### DELETE\n"
   ]
  },
  {
   "cell_type": "code",
   "execution_count": null,
   "metadata": {},
   "outputs": [],
   "source": [
    "# 58. Eliminar al cliente 9804. (Se espera 1 registro afectado).\n",
    "query_dml(\"DELETE FROM clientes WHERE id_cliente = 9804;\", operacion='delete')\n",
    "\n",
    "# 59. Eliminar a los clientes cuyo servidor de mail sea 'z0h0'. (Se esperan 2127 registros afectados).\n",
    "query_dml(\"DELETE FROM clientes WHERE mail like '%@z0h0%';\", operacion='delete')\n",
    "\n",
    "# 60. Eliminar a todos los clientes que residan en el barrio de 'Flores'. (Se esperan 803 registros afectados).\n",
    "query_dml(\"DELETE FROM clientes WHERE barrio = 'Floresta';\", operacion='delete')\n"
   ]
  },
  {
   "cell_type": "markdown",
   "metadata": {},
   "source": [
    "#### SELECT"
   ]
  },
  {
   "cell_type": "code",
   "execution_count": null,
   "metadata": {},
   "outputs": [],
   "source": [
    "# 11. Listar todos los datos de los países que no cuenten con habitantes. (Se esperan 15 columnas y 7 registros).\n",
    "query_dml(\"SELECT * FROM country WHERE population = 0;\", operacion='read')\n",
    "\n",
    "# 12. Listar todos los datos de los países cuya expectativa de vida supere los setenta y cinco años, ordenados bajo este concepto de forma ascendente.\n",
    "# (Se esperan 15 columnas y 62 registros).\n",
    "query_dml(\"SELECT * FROM country WHERE lifeexpectancy > 75 ORDER BY lifeexpectancy ASC;\", operacion='read')\n",
    "\n",
    "# 13. Listar todos los datos de los países cuya independencia haya ocurrido a partir de la segunda mitad del siglo XIX y su forma de gobierno sea\n",
    "# una monarquía constitucional. (Se esperan 15 columnas y 20 registros).\n",
    "query_dml(\"SELECT * FROM country WHERE indepyear > 1801 AND governmentform = 'Constitutional Monarchy';\", operacion='read')\n",
    "\n",
    "# 14. Listar todos los datos de los diez países europeos de mayor PBN. (Se esperan 15 columnas y 10 registros).\n",
    "query_dml(\"SELECT * FROM country WHERE continent = 'Europe' GROUP BY name ORDER BY population DESC LIMIT 10;\", operacion='read')\n",
    "\n",
    "# 15. Listar todos los datos de los países cuyo nombre registrado coincida con su nombre local. (Se esperan 15 columnas y 104 registros).\n",
    "query_dml(\"SELECT * FROM country WHERE name = localname;\", operacion='read')\n",
    "\n",
    "# 16. Listar todos los datos de los países cuya independencia se haya dado a partir de la segunda mitad del siglo XX. (Se esperan 15 columnas y 110 registros).\n",
    "query_dml(\"SELECT * FROM country WHERE indepyear > 1900;\", operacion='read')\n",
    "\n",
    "# 17. Listar todos los datos de los países situados en Europa, Asia o Sudamérica. (Se esperan 15 columnas y 111 registros).\n",
    "query_dml(\"SELECT * FROM country WHERE continent = 'Europe' OR continent = 'Asia' OR continent = 'Sudamérica';\", operacion='read')\n",
    "\n",
    "# 18. Listar todos los datos de todos los países, excepto los africanos. (Se esperan 15 columnas y 181 registros).\n",
    "query_dml(\"SELECT * FROM country WHERE continent != 'Africa';\", operacion='read')\n",
    "\n",
    "# 19. Listar todos los datos de las ciudades argentinas fuera de la provincia de Buenos Aires. (Se esperan 5 columnas y 26 registros).\n",
    "query_dml(\"SELECT * FROM city LEFT JOIN country ON city.countrycode = country.code WHERE city.countrycode NOT IN (SELECT code FROM country WHERE capital = 'Buenos Aires' AND country.name = 'Argentina');\", operacion='read')\n",
    "\n",
    "# 20. Listar todos los datos de las ciudades de entre 125 mil y 130 mil habitantes. (Se esperan 5 columnas y 138 registros).\n",
    "query_dml(\"SELECT * FROM country JOIN city ON country.code = city.countrycode WHERE city.population BETWEEN 125000 AND 130000;\", operacion='read')"
   ]
  },
  {
   "cell_type": "code",
   "execution_count": null,
   "metadata": {},
   "outputs": [],
   "source": [
    "# 21. Listar todos los datos de los países donde no se cuente con datos acerca de su independencia. (Se esperan 15 columnas y 47 registros).\n",
    "query_dml(\"SELECT * FROM country WHERE indepyear IS NULL;\", operacion='read')\n",
    "\n",
    "# 22. Listar todos los datos de los países donde no se tengan datos acerca del PBN anterior ni de la expectativa de vida.\n",
    "# (Se esperan 15 columnas y 17 registros).\n",
    "query_dml(\"SELECT * FROM country WHERE population IS NULL AND lifeexpectancy IS NULL;\", operacion='read')\n",
    "\n",
    "# 23. Listar todos los datos de los países cuyo nombre comience y termine con 'A'. (Se esperan 15 columnas y 13 registros).\n",
    "query_dml(\"SELECT * FROM country WHERE name LIKE 'A%A';\", operacion='read')\n",
    "\n",
    "# 24. Listar todos los datos de los países cuyo nombre sea compuesto (más de una palabra). (Se esperan 15 columnas y 66 registros).\n",
    "query_dml(\"SELECT * FROM country WHERE name LIKE '% %';\", operacion='read')\n",
    "\n",
    "# 25. Listar todos los datos de las ciudades cuyo nombre o distrito contengan un '-' (guión medio). (Se esperan 5 columnas y 372 registros).\n",
    "query_dml(\"SELECT * FROM country INNER JOIN city ON country.code = city.countrycode WHERE city.name LIKE '%-%' OR city.district LIKE '%-%';\", operacion='read')"
   ]
  },
  {
   "cell_type": "markdown",
   "metadata": {},
   "source": [
    "##### FILTRADO"
   ]
  },
  {
   "cell_type": "code",
   "execution_count": null,
   "metadata": {},
   "outputs": [],
   "source": [
    "# 11. Listar todos los datos de los países que no cuenten con habitantes. (Se esperan 15 columnas y 7 registros).\n",
    "query_dml(\"SELECT * FROM country WHERE population = 0;\", operacion='read')\n",
    "\n",
    "# 12. Listar todos los datos de los países cuya expectativa de vida supere los setenta y cinco años, ordenados bajo este concepto de forma ascendente.\n",
    "# (Se esperan 15 columnas y 62 registros).\n",
    "query_dml(\"SELECT * FROM country WHERE lifeexpectancy > 75 ORDER BY lifeexpectancy ASC;\", operacion='read')\n",
    "\n",
    "# 13. Listar todos los datos de los países cuya independencia haya ocurrido a partir de la segunda mitad del siglo XIX y su forma de gobierno sea\n",
    "# una monarquía constitucional. (Se esperan 15 columnas y 20 registros).\n",
    "query_dml(\"SELECT * FROM country WHERE indepyear > 1800 AND governmentform = 'Constitutional Monarchy';\", operacion='read')\n",
    "\n",
    "# 14. Listar todos los datos de los diez países europeos de mayor PBN. (Se esperan 15 columnas y 10 registros).\n",
    "query_dml(\"SELECT * FROM country WHERE continent = 'Europe' ORDER BY population DESC LIMIT 10;\", operacion='read')\n",
    "\n",
    "# 15. Listar todos los datos de los países cuyo nombre registrado coincida con su nombre local. (Se esperan 15 columnas y 104 registros).\n",
    "query_dml(\"SELECT * FROM country WHERE name = localname;\", operacion='read')\n",
    "\n",
    "# 16. Listar todos los datos de los países cuya independencia se haya dado a partir de la segunda mitad del siglo XX. (Se esperan 15 columnas y 110 registros).\n",
    "query_dml(\"SELECT * FROM country WHERE indepyear > 1950;\", operacion='read')\n",
    "\n",
    "# 17. Listar todos los datos de los países situados en Europa, Asia o Sudamérica. (Se esperan 15 columnas y 111 registros).\n",
    "query_dml(\"SELECT * FROM country WHERE continent IN ('Europe', 'Asia', 'Sudamérica');\", operacion='read')\n",
    "\n",
    "# 18. Listar todos los datos de todos los países, excepto los africanos. (Se esperan 15 columnas y 181 registros).\n",
    "query_dml(\"SELECT * FROM country WHERE continent != 'Africa';\", operacion='read')\n",
    "\n",
    "# 19. Listar todos los datos de las ciudades argentinas fuera de la provincia de Buenos Aires. (Se esperan 5 columnas y 26 registros).\n",
    "query_dml(\"SELECT * FROM city LEFT JOIN country ON city.countrycode = country.code WHERE city.countrycode NOT IN (SELECT code FROM country WHERE capital = 'Buenos Aires' AND country.name = 'Argentina');\", operacion='read')\n",
    "\n",
    "# 20. Listar todos los datos de las ciudades de entre 125 mil y 130 mil habitantes. (Se esperan 5 columnas y 138 registros).\n",
    "query_dml(\"SELECT * FROM country JOIN city ON country.code = city.countrycode WHERE city.population BETWEEN 125000 AND 130000;\", operacion='read')"
   ]
  },
  {
   "cell_type": "code",
   "execution_count": null,
   "metadata": {},
   "outputs": [],
   "source": [
    "# 21. Listar todos los datos de los países donde no se cuente con datos acerca de su independencia. (Se esperan 15 columnas y 47 registros).\n",
    "query_dml(\"SELECT * FROM country WHERE indepyear IS NULL;\", operacion='read')\n",
    "\n",
    "# 22. Listar todos los datos de los países donde no se tengan datos acerca del PBN anterior ni de la expectativa de vida.\n",
    "# (Se esperan 15 columnas y 17 registros).\n",
    "query_dml(\"SELECT * FROM country WHERE population IS NULL AND lifeexpectancy IS NULL;\", operacion='read')\n",
    "\n",
    "# 23. Listar todos los datos de los países cuyo nombre comience y termine con 'A'. (Se esperan 15 columnas y 13 registros).\n",
    "query_dml(\"SELECT * FROM country WHERE name LIKE 'A%A';\", operacion='read')\n",
    "\n",
    "# 24. Listar todos los datos de los países cuyo nombre sea compuesto (más de una palabra). (Se esperan 15 columnas y 66 registros).\n",
    "query_dml(\"SELECT * FROM country WHERE name LIKE '% %';\", operacion='read')\n",
    "\n",
    "# 25. Listar todos los datos de las ciudades cuyo nombre o distrito contengan un '-' (guión medio). (Se esperan 5 columnas y 372 registros).\n",
    "query_dml(\"SELECT * FROM country INNER JOIN city ON country.code = city.countrycode WHERE city.name LIKE '%-%';\", operacion='read')"
   ]
  },
  {
   "cell_type": "code",
   "execution_count": null,
   "metadata": {},
   "outputs": [],
   "source": [
    "# 46. Mostrar listados los años de independencia (sin nulos) junto a la cantidad de países que la hayan conseguido en ese año.\n",
    "# Se desea visualizar aquellos años donde más de un país se haya independizado. (Se esperan 2 columnas y 39 registros).\n",
    "query_dml(\"SELECT country.indepyear as anio_independencia, count(country.name) as cantidad_paises FROM country WHERE indepyear IS NOT NULL GROUP BY country.indepyear HAVING cantidad_paises > 1;\", operacion='read')\n",
    "\n",
    "# 47. Listar los países junto a la cantidad de idiomas diferentes hablados, pero solo aquellos donde se hablen entre tres y cinco idiomas diferentes.\n",
    "# (Se esperan 2 columnas y 80 registros).\n",
    "query_dml(\"SELECT country.name, count(countrylanguage.countrycode) as cantidad_idiomas FROM country INNER JOIN countrylanguage ON country.code = countrylanguage.countrycode GROUP BY country.name HAVING cantidad_idiomas BETWEEN 3 AND 5;\", operacion='read')\n",
    "\n",
    "# 48. Mostrar los distritos, junto al nombre del país al que pertenecen, cuya población total (también listada) no supere los diez mil habitantes.\n",
    "# (Se esperan 3 columnas y 35 registros).\n",
    "query_dml(\"SELECT city.district, city.name, sum(city.population) as poblacion_suma FROM city INNER JOIN country ON city.countrycode = country.code GROUP BY district HAVING poblacion_suma < 10000;\", operacion='read')\n",
    "\n",
    "# 49. Mostrar las regiones junto a su densidad poblacional promedio, donde ésta supere a la mitad de la densidad poblacional máxima.\n",
    "# (Se esperan 2 columnas y 3 registros).\n",
    "query_dml(\"SELECT region, avg(population) as poblacion_promedio FROM country GROUP BY region HAVING poblacion_promedio > (SELECT max(population) / 2 FROM country);\", operacion='read')\n",
    "\n",
    "# 50. Mostrar los lenguajes oficiales junto a su porcentaje promedio de habla, cuyo promedio no supere un dígito entero.\n",
    "# (Se esperan 2 columnas y 7 registros).\n",
    "query_dml(\"SELECT language, avg(percentage) as promedio_habla FROM countrylanguage GROUP BY language HAVING promedio_habla < 1;\", operacion='read')"
   ]
  },
  {
   "cell_type": "code",
   "execution_count": null,
   "metadata": {},
   "outputs": [],
   "source": [
    "# 26. Listar los nombres de los países sudamericanos junto a los nombres (alias 'Capital') de sus capitales.\n",
    "# (Se esperan 2 columnas y 14 registros).\n",
    "query_dml(\"SELECT name AS pais, capital AS Capital FROM country WHERE continent = 'South America';\", operacion='read')\n",
    "\n",
    "# 27. Listar el código de país, junto a los nombres de las ciudades y su cantidad de habitantes, de aquellos cuya expectativa de vida sea mayor a 80.\n",
    "# (Se esperan 3 columnas y 253 registros).\n",
    "query_dml(\"SELECT country.code, city.name AS nombre_ciudad, city.population AS poblacion FROM country INNER JOIN city ON country.code = city.countrycode WHERE country.lifeexpectancy > 80;\", operacion='read')\n",
    "\n",
    "# 28. Listar las capitales de los países cuya forma de gobierno sea una República Federal.\n",
    "# (Se esperan 2 columnas y 15 registros).\n",
    "query_dml(\"SELECT country.name AS Capital FROM country INNER JOIN city ON city.id = country.capital WHERE governmentform = 'Federal Republic';\", operacion='read')\n",
    "\n",
    "# 29. Listar los lenguajes oficiales, junto al nombre de sus respectivos países, donde la cantidad de habitantes de dicho país esté entre un millón y tres millones.\n",
    "# (Se esperan 2 columnas y 14 registros).\n",
    "query_dml(\"SELECT countrylanguage.language, country.name AS pais FROM country INNER JOIN countrylanguage ON country.code = countrylanguage.countrycode WHERE country.population BETWEEN 1000000 AND 3000000;\", operacion='read')\n",
    "\n",
    "# 30. Listar los códigos, los nombres locales y la región a la que pertenecen aquellos países donde se hable español.\n",
    "# (Se esperan 3 columnas y 28 registros).\n",
    "query_dml(\"SELECT country.code, country.localname, country.region FROM country INNER JOIN countrylanguage ON country.code = countrylanguage.countrycode WHERE countrylanguage.language = 'Spanish';\", operacion='read')\n",
    "\n",
    "# 31. Listar los nombres y las capitales de los países en cuya capital se concentre más de la mitad de su población total.\n",
    "# (Se esperan 2 columnas y 14 registros).\n",
    "query_dml(\"SELECT country.name, city.name AS Capital FROM country INNER JOIN city ON country.capital = city.id WHERE city.population > country.population / 2;\", operacion='read')\n",
    "\n",
    "# 32. Listar los nombres y la superficie de los países africanos cuya capital coincida con el nombre del distrito a la que pertenece.\n",
    "# (Se esperan 2 columnas y 32 registros).\n",
    "query_dml(\"SELECT country.name, country.surfacearea FROM country INNER JOIN city ON country.capital = city.id WHERE city.name = city.district AND country.continent = 'Africa';\", operacion='read')\n",
    "\n",
    "# 33. Listar los nombres, las capitales y el año de independencia (sin nulos) de los 20 países más antiguos.\n",
    "# (Se esperan 3 columnas y 20 registros).\n",
    "query_dml(\"SELECT country.name, city.name AS Capital, country.indepyear FROM country INNER JOIN city ON country.capital = city.id WHERE country.name IS NOT NULL AND city.name IS NOT NULL AND country.indepyear IS NOT NULL ORDER BY country.indepyear DESC LIMIT 20;\", operacion='read')\n",
    "\n",
    "# 34. Listar las ciudades junto a sus idiomas oficiales, donde no se hable español, inglés, portugués, italiano, francés o alemán de manera oficial.\n",
    "# (Se esperan 2 columnas y 2694 registros).\n",
    "query_dml(\"SELECT city.name AS nombre_ciudad, countrylanguage.language FROM country INNER JOIN city ON country.code = city.countrycode INNER JOIN countrylanguage ON country.code = countrylanguage.countrycode WHERE countrylanguage.language NOT IN ('Spanish', 'English', 'Portuguese', 'German', 'Italian', 'French');\", operacion='read')\n",
    "\n",
    "# 35. Listar nombre, población y país de las diez ciudades europeas de habla inglesa más pobladas.\n",
    "# (Se esperan 3 columnas y 10 registros).\n",
    "query_dml(\"SELECT city.name AS nombre_ciudad, city.population AS poblacion, country.name AS pais FROM country INNER JOIN city ON country.capital = city.id WHERE country.continent = 'Europe' GROUP BY city.name ORDER BY city.population DESC LIMIT 10;\", operacion='read')\n"
   ]
  },
  {
   "cell_type": "code",
   "execution_count": null,
   "metadata": {},
   "outputs": [],
   "source": [
    "# 6. Listar toda la información de los países, ordenados por población de manera ascendente.\n",
    "# (Se esperan 15 columnas y 239 registros).\n",
    "query_dml(\"SELECT * FROM country ORDER BY population ASC;\", operación='read')\n",
    "\n",
    "# 7. Listar nombre de los lenguajes en orden alfabético.\n",
    "# (Se espera 1 columna y 984 registros).\n",
    "query_dml(\"SELECT countrylanguage.Language FROM countrylanguage ORDER BY language ASC;\", operación='read')\n",
    "\n",
    "# 8. Listar nombre y cantidad de habitantes de las veinte ciudades menos pobladas.\n",
    "# (Se esperan 2 columnas y 20 registros).\n",
    "query_dml(\"SELECT name, population FROM country GROUP BY name ORDER BY population ASC LIMIT 20;\", operación='read')\n",
    "\n",
    "# 9. Listar código, nombre y año de independencia de todos los países, ordenados por antigüedad descendente.\n",
    "# (Se esperan 3 columnas y 239 registros).\n",
    "query_dml(\"SELECT code, name, indepyear FROM country GROUP BY name ORDER BY indepyear DESC;\", operación='read')\n",
    "\n",
    "# 10. Listar nombre y continente de los cien países con mayor expectativa de vida. Si hubiera países que tengan la misma expectativa de vida, mostrar primero\n",
    "# a los de menor superficie.\n",
    "# (Se esperan 2 columnas y 100 registros).\n",
    "query_dml(\"SELECT name, continent FROM country GROUP BY name ORDER BY lifeexpectancy DESC, surfacearea ASC LIMIT 100;\", operación='read')\n"
   ]
  },
  {
   "cell_type": "markdown",
   "metadata": {},
   "source": [
    "#### FUNCIONES DE AGRUPAMIENTO"
   ]
  },
  {
   "cell_type": "code",
   "execution_count": null,
   "metadata": {},
   "outputs": [],
   "source": [
    "# 36. Mostrar según la tabla de países, la cantidad total de población, la población máxima, la población mínima, el promedio de población y con cuántos registros de población se cuenta.\n",
    "# (Se esperan 5 columnas y 1 registro).\n",
    "query_dml(\"SELECT count(population) as poblacion, max(population) as poblacion_maxima, min(population) as poblacion_minima, avg(population) as poblacion_promedio, count(*) as cantidad_registros FROM country;\", operacion='read')\n",
    "\n",
    "# 37. Mostrar según la tabla de países, la cantidad total de población, la población máxima, la población mínima y el promedio de población, por cada continente.\n",
    "# (Se esperan 5 columnas y 7 registros).\n",
    "query_dml(\"SELECT continent, count(population) as cantidad_poblacion, max(population) as poblacion_maxima, min(population) as poblacion_minima, avg(population) as poblacion_promedio FROM country GROUP BY continent;\", operacion='read')\n",
    "\n",
    "# 38. Agrupar a todos los países según el continente al que pertenecen. Mostrar los continentes junto a la cantidad de naciones que pertenecen a cada uno.\n",
    "# (Se esperan 2 columnas y 7 registros).\n",
    "query_dml(\"SELECT continent, count(name) as cantidad_naciones FROM country GROUP BY continent;\", operacion='read')\n",
    "\n",
    "# 39. Agrupar a todas las ciudades según el país al que pertenecen. Mostrar los códigos de países junto a la sumatoria total de habitantes de cada uno.\n",
    "# (Se esperan 2 columnas y 232 registros).\n",
    "query_dml(\"SELECT city.name, country.name, country.code, sum(city.population) as total_habitantes FROM country INNER JOIN city ON country.code = city.countrycode GROUP BY country.code;\", operacion='read')\n",
    "\n",
    "# 40. Agrupar a todos los lenguajes según su nombre. Mostrar los nombres de los lenguajes junto al porcentaje de habla mínimo registrado para cada uno.\n",
    "# (Se esperan 2 columnas y 457 registros).\n",
    "query_dml(\"SELECT language, min(percentage) as porcentaje_minimo FROM countrylanguage GROUP BY language;\", operacion='read')\n",
    "\n",
    "# 41. Mostrar las distintas formas de gobierno posibles de los países europeos junto a su correspondiente promedio de población que vive bajo estas circunstancias.\n",
    "# (Se esperan 2 columnas y 10 registros).\n",
    "query_dml(\"SELECT governmentform, avg(population) as poblacion_promedio FROM country WHERE continent = 'Europe' GROUP BY governmentform;\", operacion='read')\n",
    "\n",
    "# 42. Mostrar las diez regiones de mayor expectativa de vida promedio.\n",
    "# (Se esperan 2 columnas y 10 registros).\n",
    "query_dml(\"SELECT region, avg(lifeexpectancy) as expectativa_vida_promedio FROM country GROUP BY region ORDER BY expectativa_vida_promedio DESC LIMIT 10;\", operacion='read')\n",
    "\n",
    "# 43. Mostrar los nombres de los diez distritos de mayor cantidad de ciudades con cantidad de habitantes mayor al medio millón, junto a la cantidad de ciudades.\n",
    "# (Se esperan 3 columnas y 10 registros).\n",
    "query_dml(\"SELECT district, count(name) as cantidad_ciudades FROM city WHERE population > 500000 GROUP BY district ORDER BY cantidad_ciudades DESC LIMIT 10;\", operacion='read')\n",
    "\n",
    "# 44. Mostrar los nombres de los países que tengan ciudades en el Caribe, junto al número de las mismas por país.\n",
    "# (Se esperan 2 columnas y 24 registros).\n",
    "query_dml(\"SELECT country.name, count(city.name) as cantidad_ciudades_caribe FROM country INNER JOIN city ON city.countrycode = country.code WHERE city.name = 'Caribe' GROUP BY country.name;\", operacion='read')\n",
    "\n",
    "# 45. Mostrar los lenguajes existentes junto a la cantidad de países que lo hablan de manera oficial.\n",
    "# (Se esperan 2 columnas y 102 registros).\n",
    "query_dml(\"SELECT language, count(DISTINCT country.name) as cantidad_paises_que_lo_hablan FROM country INNER JOIN countrylanguage ON country.code = countrylanguage.countrycode GROUP BY language;\", operacion='read')\n"
   ]
  },
  {
   "cell_type": "markdown",
   "metadata": {},
   "source": [
    "### CIERRE DE CONEXION BBDD INUPDE"
   ]
  },
  {
   "cell_type": "code",
   "execution_count": null,
   "metadata": {},
   "outputs": [
    {
     "ename": "OperationalError",
     "evalue": "disk I/O error",
     "output_type": "error",
     "traceback": [
      "\u001b[0;31m---------------------------------------------------------------------------\u001b[0m",
      "\u001b[0;31mOperationalError\u001b[0m                          Traceback (most recent call last)",
      "\u001b[1;32m/Users/cristianariel/Documents/Codigo/sql_tienda_int/queries/local_managers/dml.ipynb Celda 37\u001b[0m line \u001b[0;36m1\n\u001b[0;32m----> <a href='vscode-notebook-cell:/Users/cristianariel/Documents/Codigo/sql_tienda_int/queries/local_managers/dml.ipynb#X35sZmlsZQ%3D%3D?line=0'>1</a>\u001b[0m db_inupde\u001b[39m.\u001b[39;49mcommit()\n\u001b[1;32m      <a href='vscode-notebook-cell:/Users/cristianariel/Documents/Codigo/sql_tienda_int/queries/local_managers/dml.ipynb#X35sZmlsZQ%3D%3D?line=1'>2</a>\u001b[0m db_inupde\u001b[39m.\u001b[39mclose()\n",
      "\u001b[0;31mOperationalError\u001b[0m: disk I/O error"
     ]
    }
   ],
   "source": [
    "db_inupde.commit()\n",
    "db_inupde.close()"
   ]
  },
  {
   "cell_type": "markdown",
   "metadata": {},
   "source": [
    "### CIERRE DE CONEXION BBDD WORLD"
   ]
  },
  {
   "cell_type": "code",
   "execution_count": null,
   "metadata": {},
   "outputs": [],
   "source": [
    "db_world.commit()\n",
    "db_world.close()"
   ]
  }
 ],
 "metadata": {
  "kernelspec": {
   "display_name": "Python 3",
   "language": "python",
   "name": "python3"
  },
  "language_info": {
   "codemirror_mode": {
    "name": "ipython",
    "version": 3
   },
   "file_extension": ".py",
   "mimetype": "text/x-python",
   "name": "python",
   "nbconvert_exporter": "python",
   "pygments_lexer": "ipython3",
   "version": "3.11.4"
  }
 },
 "nbformat": 4,
 "nbformat_minor": 2
}
