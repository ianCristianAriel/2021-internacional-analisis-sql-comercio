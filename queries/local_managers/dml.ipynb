{
 "cells": [
  {
   "cell_type": "markdown",
   "metadata": {},
   "source": [
    "## GENERAL"
   ]
  },
  {
   "cell_type": "markdown",
   "metadata": {},
   "source": [
    "### LIBRERIAS"
   ]
  },
  {
   "cell_type": "code",
   "execution_count": 81,
   "metadata": {},
   "outputs": [],
   "source": [
    "# Importo las librerías necesarias\n",
    "import pandas as pd  # Para el manejo de dataframes\n",
    "import numpy as np  # Para la creación de arrays y el manejo de estadísticas\n",
    "import scipy.stats as st  # Para la obtención de estadísticas\n",
    "import sqlite3  # Para trabajar con bases de datos SQLite\n",
    "import plotly.express as px"
   ]
  },
  {
   "cell_type": "markdown",
   "metadata": {},
   "source": [
    "### BBDD INUPDE"
   ]
  },
  {
   "cell_type": "markdown",
   "metadata": {},
   "source": [
    "### QUERIES DML"
   ]
  },
  {
   "cell_type": "code",
   "execution_count": 82,
   "metadata": {},
   "outputs": [],
   "source": [
    "# Crear un diccionario para almacenar los resultados\n",
    "resultados = {}"
   ]
  },
  {
   "cell_type": "code",
   "execution_count": 83,
   "metadata": {},
   "outputs": [],
   "source": [
    "# Función para ejecutar las consultas y guardar los resultados en un diccionario\n",
    "def ejecutar_consulta(query, numero_consulta=0, resultados=''):\n",
    "    try:\n",
    "        cursor.execute(query)\n",
    "        resultados[numero_consulta] = cursor.fetchall()\n",
    "        \n",
    "        try:\n",
    "            db_world.commit()\n",
    "\n",
    "        except:\n",
    "            db_inupde.commit()\n",
    "\n",
    "    except Exception as e:\n",
    "        print(f\"Hubo un error al realizar el query {numero_consulta} en la base de datos: {str(e)}\")"
   ]
  },
  {
   "cell_type": "markdown",
   "metadata": {},
   "source": [
    "#### INSERT"
   ]
  },
  {
   "cell_type": "code",
   "execution_count": 84,
   "metadata": {},
   "outputs": [],
   "source": [
    "# Establezco la conexión a la base de datos 'OPERACIONES.db' y creo un cursor\n",
    "db_inupde = sqlite3.connect('../../data/local_managers/inupde.db')\n",
    "cursor = db_inupde.cursor()\n",
    "\n",
    "# Abre y lee el archivo .sql que contiene las consultas de inserción\n",
    "with open('../../data/inupde.sql', 'r') as file:\n",
    "    sql_script = file.read()\n",
    "\n",
    "# Divide el script en consultas individuales\n",
    "consultas = sql_script.split('),(')\n",
    "\n",
    "# Filtra y ejecuta las consultas con 6 comillas simples\n",
    "for consulta in consultas[2:]:\n",
    "    try:\n",
    "        consulta_sql = \"INSERT INTO `clientes` (id_cliente, dni, nombre, apellido, genero, fecha_nacimiento, mail, movil, domicilio, barrio, nacionalidad) VALUES (\" + consulta + \")\"\n",
    "        cursor.execute(consulta_sql)\n",
    "        db_inupde.commit()\n",
    "    except:\n",
    "        pass\n",
    "    db_inupde.close()"
   ]
  },
  {
   "cell_type": "markdown",
   "metadata": {},
   "source": [
    "### BBDD WORLD\n"
   ]
  },
  {
   "cell_type": "markdown",
   "metadata": {},
   "source": [
    "#### INSERT\n"
   ]
  },
  {
   "cell_type": "markdown",
   "metadata": {},
   "source": [
    "##### TABLA CITY"
   ]
  },
  {
   "cell_type": "code",
   "execution_count": 85,
   "metadata": {},
   "outputs": [],
   "source": [
    "# Establezco la conexión a la base de datos 'OPERACIONES.db' y creo un cursor\n",
    "db_world = sqlite3.connect('../../data/local_managers/world.db')\n",
    "cursor = db_world.cursor()\n",
    "\n",
    "# Abre y lee el archivo .sql que contiene las consultas de inserción\n",
    "with open('../../data/world_city.sql', 'r') as file:\n",
    "    sql_script = file.read()\n",
    "\n",
    "# Divide el script en instrucciones individuales\n",
    "sql_statements = sql_script.split(';')\n",
    "\n",
    "# Ejecuta cada declaración SQL\n",
    "for statement in sql_statements:\n",
    "    statement = statement.strip()\n",
    "    if statement:\n",
    "        try:\n",
    "            cursor.executescript(statement)\n",
    "            db_world.commit()\n",
    "        except:\n",
    "            pass\n",
    "    db_world.close()"
   ]
  },
  {
   "cell_type": "markdown",
   "metadata": {},
   "source": [
    "##### TABLA COUNTRY"
   ]
  },
  {
   "cell_type": "code",
   "execution_count": 86,
   "metadata": {},
   "outputs": [],
   "source": [
    "# Establezco la conexión a la base de datos 'OPERACIONES.db' y creo un cursor\n",
    "db_world = sqlite3.connect('../../data/local_managers/world.db')\n",
    "cursor = db_world.cursor()\n",
    "\n",
    "# Abre y lee el archivo .sql que contiene las consultas de inserción\n",
    "with open('../../data/world_country.sql', 'r') as file:\n",
    "    sql_script = file.read()\n",
    "\n",
    "# Divide el script en instrucciones individuales\n",
    "sql_statements = sql_script.split(';')\n",
    "\n",
    "# Ejecuta cada declaración SQL\n",
    "for statement in sql_statements:\n",
    "    statement = statement.strip()\n",
    "    if statement:\n",
    "        try:\n",
    "            cursor.executescript(statement)\n",
    "            db_world.commit()\n",
    "        except:\n",
    "            pass\n",
    "    db_world.close()"
   ]
  },
  {
   "cell_type": "markdown",
   "metadata": {},
   "source": [
    "##### TABLA COUNTRY LANGUAGE"
   ]
  },
  {
   "cell_type": "code",
   "execution_count": 87,
   "metadata": {},
   "outputs": [],
   "source": [
    "# Establezco la conexión a la base de datos 'OPERACIONES.db' y creo un cursor\n",
    "db_world = sqlite3.connect('../../data/local_managers/world.db')\n",
    "cursor = db_world.cursor()\n",
    "\n",
    "# Abre y lee el archivo .sql que contiene las consultas de inserción\n",
    "with open('../../data/world_country_language.sql', 'r') as file:\n",
    "    sql_script = file.read()\n",
    "\n",
    "# Divide el script en instrucciones individuales\n",
    "sql_statements = sql_script.split(';')\n",
    "\n",
    "# Ejecuta cada declaración SQL\n",
    "for statement in sql_statements:\n",
    "    statement = statement.strip()\n",
    "    if statement:\n",
    "        try:\n",
    "            cursor.executescript(statement)\n",
    "            db_world.commit()\n",
    "        except:\n",
    "            pass\n",
    "    db_world.close()"
   ]
  },
  {
   "cell_type": "markdown",
   "metadata": {},
   "source": [
    "##### GUIA DE EJERSICIOS"
   ]
  },
  {
   "cell_type": "code",
   "execution_count": 88,
   "metadata": {},
   "outputs": [
    {
     "name": "stdout",
     "output_type": "stream",
     "text": [
      "Hubo un error al realizar el query 52 en la base de datos: execute() argument 1 must be str, not list\n"
     ]
    }
   ],
   "source": [
    "db_inupde = sqlite3.connect('../../data/local_managers/inupde.db')\n",
    "cursor = db_inupde.cursor()\n",
    "\n",
    "# Definir las consultas de inserción y números de consulta\n",
    "consultas_insercion = {\n",
    "    51: \"INSERT INTO clientes (DNI, nombre, apellido, genero, Fecha_nacimiento, Mail, Movil, domicilio, Barrio, Nacionalidad) VALUES ('12169851', 'Luis Enrique', 'Pérez', 'HOMBRE', '1954-06-01', 'perez_luisenrique@ma1l.com', '1157319468', 'Pujol 416', 'Caballito', 'Uruguay')\",\n",
    "    52: [\n",
    "        \"INSERT INTO clientes (DNI, nombre, apellido, genero, Fecha_nacimiento, Mail, Movil, domicilio, Barrio, Nacionalidad) VALUES ('17278290','Florencia','Santos','MUJER','1963-07-12','flor.santos@ma1l.com','1148434346','Piran 3015','Villa Urquiza','Argentina')\",\n",
    "        \"INSERT INTO clientes (DNI, nombre, apellido, genero, Fecha_nacimiento, Mail, Movil, domicilio, Barrio, Nacionalidad) VALUES ('16839283','Luisa Nina','Escudero','MUJER','1962-03-22','lulu62@hushma1l.com','1175940343','Superi 348 1º A','Colegiales','Colombia')\",\n",
    "        \"INSERT INTO clientes (DNI, nombre, apellido, genero, Fecha_nacimiento, Mail, Movil, domicilio, Barrio, Nacionalidad) VALUES ('19164274','Carlos Alberto','Medina','HOMBRE','1966-04-26','medinacarlosalberto@z0h0.com','1123423451','Mexico 2121','Balvanera','Argentina')\"\n",
    "    ],\n",
    "    53: \"INSERT INTO clientes (DNI, nombre, apellido, genero, Fecha_nacimiento, Mail, Movil, domicilio, Barrio, Nacionalidad) VALUES ('36.427.254', 'Maria Sol', 'Gonzalez', 'MUJER', '1992-08-15', 'ma.gon54@gma1l.com', '1136782013', 'Gurruchaga 243', 'Villa Crespo', 'Argentina')\"\n",
    "}\n",
    "\n",
    "# Ejecutar las consultas de inserción\n",
    "for numero_consulta, consulta in consultas_insercion.items():\n",
    "    ejecutar_consulta(consulta, numero_consulta, resultados)\n",
    "\n",
    "db_inupde.close()"
   ]
  },
  {
   "cell_type": "markdown",
   "metadata": {},
   "source": [
    "#### UPDATE"
   ]
  },
  {
   "cell_type": "code",
   "execution_count": 89,
   "metadata": {},
   "outputs": [],
   "source": [
    "db_inupde = sqlite3.connect('../../data/local_managers/inupde.db')\n",
    "cursor = db_inupde.cursor()\n",
    "\n",
    "# Definir las consultas de modificación y números de consulta\n",
    "consultas_modificacion = {\n",
    "    54: \"UPDATE clientes SET apellido = 'Chaves' WHERE ID_cliente = 85;\",\n",
    "    55: \"UPDATE clientes SET dni = substr('0' || dni, -8) WHERE length(dni) = 7;\",\n",
    "    56: \"UPDATE clientes SET nombre = 'Nicolás' WHERE nombre = 'Nicolas';\",\n",
    "    57: \"UPDATE clientes SET apellido = upper(apellido) WHERE nacionalidad != 'Argentina';\"\n",
    "}\n",
    "\n",
    "# Ejecutar las consultas de modificación\n",
    "for numero_consulta, consulta in consultas_modificacion.items():\n",
    "    ejecutar_consulta(consulta, numero_consulta, resultados)\n",
    "\n",
    "db_inupde.close()"
   ]
  },
  {
   "cell_type": "markdown",
   "metadata": {},
   "source": [
    "#### DELETE\n"
   ]
  },
  {
   "cell_type": "code",
   "execution_count": 90,
   "metadata": {},
   "outputs": [],
   "source": [
    "db_inupde = sqlite3.connect('../../data/local_managers/inupde.db')\n",
    "cursor = db_inupde.cursor()\n",
    "\n",
    "# Definir las consultas de eliminación y números de consulta\n",
    "consultas_eliminacion = {\n",
    "    58: \"DELETE FROM clientes WHERE id_cliente = 9804;\",\n",
    "    59: \"DELETE FROM clientes WHERE mail like '%@z0h0%';\",\n",
    "    60: \"DELETE FROM clientes WHERE barrio = 'Floresta';\"\n",
    "}\n",
    "\n",
    "# Ejecutar las consultas de eliminación\n",
    "for numero_consulta, consulta in consultas_eliminacion.items():\n",
    "    ejecutar_consulta(consulta, numero_consulta, resultados)\n",
    "\n",
    "db_inupde.close()"
   ]
  },
  {
   "cell_type": "markdown",
   "metadata": {},
   "source": [
    "#### SELECT"
   ]
  },
  {
   "cell_type": "markdown",
   "metadata": {},
   "source": [
    "11. Listar todos los datos de los países que no cuenten con habitantes. (Se esperan 15 columnas y 7 registros).\n",
    "\n",
    "12. Listar todos los datos de los países cuya expectativa de vida supere los setenta y cinco años, ordenados bajo este concepto de forma ascendente. (Se esperan 15 columnas y 62 registros).\n",
    "\n",
    "13. Listar todos los datos de los países cuya independencia haya ocurrido a partir de la segunda mitad del siglo XIX y su forma de gobierno sea una monarquía constitucional. (Se esperan 15 columnas y 20 registros).\n",
    "\n",
    "14. Listar todos los datos de los diez países europeos de mayor PBN. (Se esperan 15 columnas y 10 registros).\n",
    "\n",
    "15. Listar todos los datos de los países cuyo nombre registrado coincida con su nombre local. (Se esperan 15 columnas y 104 registros).\n",
    "\n",
    "16. Listar todos los datos de los países cuya independencia se haya dado a partir de la segunda mitad del siglo XX. (Se esperan 15 columnas y 110 registros).\n",
    "\n",
    "17. Listar todos los datos de los países situados en Europa, Asia o Sudamérica. (Se esperan 15 columnas y 111 registros).\n",
    "\n",
    "18. Listar todos los datos de todos los países, excepto los africanos. (Se esperan 15 columnas y 181 registros).\n",
    "\n",
    "19. Listar todos los datos de las ciudades argentinas fuera de la provincia de Buenos Aires. (Se esperan 5 columnas y 26 registros).\n",
    "\n",
    "20. Listar todos los datos de las ciudades de entre 125 mil y 130 mil habitantes. (Se esperan 5 columnas y 138 registros)."
   ]
  },
  {
   "cell_type": "code",
   "execution_count": 91,
   "metadata": {},
   "outputs": [],
   "source": [
    "# Establezco la conexión a la base de datos 'OPERACIONES.db' y creo un cursor\n",
    "db_world = sqlite3.connect('../../data/local_managers/world.db')\n",
    "cursor = db_world.cursor()\n",
    "\n",
    "# Definir las consultas y números de consulta\n",
    "consultas = {\n",
    "    11: \"SELECT * FROM country WHERE population = 0;\",\n",
    "    12: \"SELECT * FROM country WHERE lifeexpectancy > 75 ORDER BY lifeexpectancy ASC;\",\n",
    "    13: \"SELECT * FROM country WHERE indepyear > 1850 AND governmentform = 'Constitutional Monarchy';\",\n",
    "    14: \"SELECT * FROM country WHERE continent = 'Europe' ORDER BY gnp DESC LIMIT 10;\",\n",
    "    15: \"SELECT * FROM country WHERE name = localname;\",\n",
    "    16: \"SELECT * FROM country WHERE indepyear > 1950;\",\n",
    "    17: \"SELECT * FROM country WHERE continent IN ('Europe', 'Asia', 'Sudamérica');\",\n",
    "    18: \"SELECT * FROM country WHERE continent != 'Africa';\",\n",
    "    19: \"\"\"\n",
    "        SELECT city.* \n",
    "        FROM city \n",
    "        JOIN country ON city.countrycode = country.code \n",
    "        WHERE city.countrycode IN (SELECT code FROM country WHERE capital = 'Buenos Aires' AND name = 'Argentina')\n",
    "        AND country.code != 'AR';\n",
    "    \"\"\",\n",
    "    20: \"\"\"\n",
    "        SELECT city.* \n",
    "        FROM city \n",
    "        JOIN country ON city.countrycode = country.code \n",
    "        WHERE city.population BETWEEN 125000 AND 130000;\n",
    "    \"\"\"\n",
    "}\n",
    "\n",
    "# Ejecutar las consultas y guardar los resultados\n",
    "for numero_consulta, consulta in consultas.items():\n",
    "    resultado_consulta = ejecutar_consulta(consulta, numero_consulta, resultados)\n",
    "\n",
    "db_world.close()"
   ]
  },
  {
   "cell_type": "markdown",
   "metadata": {},
   "source": [
    "21. Listar todos los datos de los países donde no se cuente con datos acerca de su independencia. (Se esperan 15 columnas y 47 registros).\n",
    "22. Listar todos los datos de los países donde no se tengan datos acerca del PBN anterior ni de la expectativa de vida.\n",
    "23. Listar todos los datos de los países cuyo nombre comience y termine con 'A'. (Se esperan 15 columnas y 13 registros). (Se esperan 15 columnas y 17 registros).\n",
    "24. Listar todos los datos de los países cuyo nombre sea compuesto (más de una palabra). (Se esperan 15 columnas y 66 registros).\n",
    "25. Listar todos los datos de las ciudades cuyo nombre o distrito contengan un '-' (guión medio). (Se esperan 5 columnas y 372 registros)."
   ]
  },
  {
   "cell_type": "code",
   "execution_count": 92,
   "metadata": {},
   "outputs": [],
   "source": [
    "# Establezco la conexión a la base de datos 'OPERACIONES.db' y creo un cursor\n",
    "db_world = sqlite3.connect('../../data/local_managers/world.db')\n",
    "cursor = db_world.cursor()\n",
    "\n",
    "# Definir las consultas y números de consulta\n",
    "consultas = {\n",
    "    21: \"SELECT * FROM country WHERE indepyear IS NULL;\",\n",
    "    22: \"SELECT * FROM country WHERE gnp IS NULL AND lifeexpectancy IS NULL;\",\n",
    "    23: \"SELECT * FROM country WHERE name LIKE 'A%A';\",\n",
    "    24: \"SELECT * FROM country WHERE name LIKE '% %';\",\n",
    "    25: \"\"\"\n",
    "        SELECT city.* \n",
    "        FROM country \n",
    "        INNER JOIN city ON country.code = city.countrycode \n",
    "        WHERE city.name LIKE '%-%' OR city.district LIKE '%-%';\n",
    "    \"\"\"\n",
    "}\n",
    "\n",
    "# Ejecutar las consultas y guardar los resultados\n",
    "for numero_consulta, consulta in consultas.items():\n",
    "    ejecutar_consulta(consulta, numero_consulta, resultados)\n",
    "\n",
    "db_world.close()"
   ]
  },
  {
   "cell_type": "markdown",
   "metadata": {},
   "source": [
    "##### FILTRADO"
   ]
  },
  {
   "cell_type": "code",
   "execution_count": 93,
   "metadata": {},
   "outputs": [],
   "source": [
    "# Establezco la conexión a la base de datos 'OPERACIONES.db' y creo un cursor\n",
    "db_world = sqlite3.connect('../../data/local_managers/world.db')\n",
    "cursor = db_world.cursor()\n",
    "\n",
    "# Definir las consultas y números de consulta\n",
    "consultas = {\n",
    "    21: \"SELECT * FROM country WHERE indepyear IS NULL;\",\n",
    "    22: \"SELECT * FROM country WHERE gnp IS NULL AND lifeexpectancy IS NULL;\",\n",
    "    23: \"SELECT * FROM country WHERE name LIKE 'A%A';\",\n",
    "    24: \"SELECT * FROM country WHERE name LIKE '% %';\",\n",
    "    25: \"\"\"\n",
    "        SELECT city.* \n",
    "        FROM country \n",
    "        INNER JOIN city ON country.code = city.countrycode \n",
    "        WHERE city.name LIKE '%-%';\n",
    "    \"\"\"\n",
    "}\n",
    "\n",
    "# Ejecutar las consultas y guardar los resultados\n",
    "for numero_consulta, consulta in consultas.items():\n",
    "    ejecutar_consulta(consulta, numero_consulta, resultados)\n",
    "    \n",
    "db_world.close()"
   ]
  },
  {
   "cell_type": "code",
   "execution_count": 94,
   "metadata": {},
   "outputs": [],
   "source": [
    "# Establezco la conexión a la base de datos 'OPERACIONES.db' y creo un cursor\n",
    "db_world = sqlite3.connect('../../data/local_managers/world.db')\n",
    "cursor = db_world.cursor()\n",
    "\n",
    "# Definir las consultas y números de consulta\n",
    "consultas = {\n",
    "    46: \"SELECT country.indepyear as anio_independencia, count(country.name) as cantidad_paises FROM country WHERE indepyear IS NOT NULL GROUP BY country.indepyear HAVING cantidad_paises > 1;\",\n",
    "    47: \"SELECT country.name, count(countrylanguage.countrycode) as cantidad_idiomas FROM country INNER JOIN countrylanguage ON country.code = countrylanguage.countrycode GROUP BY country.name HAVING cantidad_idiomas BETWEEN 3 AND 5;\",\n",
    "    48: \"SELECT city.district, city.name, sum(city.population) as poblacion_suma FROM city INNER JOIN country ON city.countrycode = country.code GROUP BY district HAVING poblacion_suma < 10000;\",\n",
    "    49: \"SELECT region, avg(population) as poblacion_promedio FROM country GROUP BY region HAVING poblacion_promedio > (SELECT max(population) / 2 FROM country);\",\n",
    "    50: \"SELECT language, avg(percentage) as promedio_habla FROM countrylanguage GROUP BY language HAVING promedio_habla < 1;\"\n",
    "}\n",
    "\n",
    "# Ejecutar las consultas y guardar los resultados\n",
    "for numero_consulta, consulta in consultas.items():\n",
    "    ejecutar_consulta(consulta, numero_consulta, resultados)\n",
    "\n",
    "db_world.close()"
   ]
  },
  {
   "cell_type": "code",
   "execution_count": 95,
   "metadata": {},
   "outputs": [],
   "source": [
    "# Establezco la conexión a la base de datos 'OPERACIONES.db' y creo un cursor\n",
    "db_world = sqlite3.connect('../../data/local_managers/world.db')\n",
    "cursor = db_world.cursor()\n",
    "\n",
    "# Definir las consultas y números de consulta\n",
    "consultas = {\n",
    "    26: \"SELECT name AS pais, capital AS Capital FROM country WHERE continent = 'South America';\",\n",
    "    27: \"SELECT country.code, city.name AS nombre_ciudad, city.population AS poblacion FROM country INNER JOIN city ON country.code = city.countrycode WHERE country.lifeexpectancy > 80;\",\n",
    "    28: \"SELECT country.name AS Capital FROM country INNER JOIN city ON city.id = country.capital WHERE governmentform = 'Federal Republic';\",\n",
    "    29: \"SELECT countrylanguage.language, country.name AS pais FROM country INNER JOIN countrylanguage ON country.code = countrylanguage.countrycode WHERE country.population BETWEEN 1000000 AND 3000000;\",\n",
    "    30: \"SELECT country.code, country.localname, country.region FROM country INNER JOIN countrylanguage ON country.code = countrylanguage.countrycode WHERE countrylanguage.language = 'Spanish';\",\n",
    "    31: \"SELECT country.name, city.name AS Capital FROM country INNER JOIN city ON country.capital = city.id WHERE city.population > country.population / 2;\",\n",
    "    32: \"SELECT country.name, country.surfacearea FROM country INNER JOIN city ON country.capital = city.id WHERE city.name = city.district AND country.continent = 'Africa';\",\n",
    "    33: \"SELECT country.name, city.name AS Capital, country.indepyear FROM country INNER JOIN city ON country.capital = city.id WHERE country.name IS NOT NULL AND city.name IS NOT NULL AND country.indepyear IS NOT NULL ORDER BY country.indepyear DESC LIMIT 20;\",\n",
    "    34: \"SELECT city.name AS nombre_ciudad, countrylanguage.language FROM country INNER JOIN city ON country.code = city.countrycode INNER JOIN countrylanguage ON country.code = countrylanguage.countrycode WHERE countrylanguage.language NOT IN ('Spanish', 'English', 'Portuguese', 'German', 'Italian', 'French');\",\n",
    "    35: \"SELECT city.name AS nombre_ciudad, city.population AS poblacion, country.name AS pais FROM country INNER JOIN city ON country.capital = city.id WHERE country.continent = 'Europe' GROUP BY city.name ORDER BY city.population DESC LIMIT 10;\"\n",
    "}\n",
    "\n",
    "# Ejecutar las consultas y guardar los resultados\n",
    "for numero_consulta, consulta in consultas.items():\n",
    "    ejecutar_consulta(consulta, numero_consulta, resultados)\n",
    "\n",
    "db_world.close()"
   ]
  },
  {
   "cell_type": "markdown",
   "metadata": {},
   "source": [
    "6. Listar toda la información de los países, ordenados por población de manera ascendente. (Se esperan 15 columnas y 239 registros).\n",
    "\n",
    "7. Listar nombre de los lenguajes en orden alfabético. (Se espera 1 columna y 984 registros).\n",
    "\n",
    "8. Listar nombre y cantidad de habitantes de las veinte ciudades menos pobladas. (Se esperan 2 columnas y 20 registros).\n",
    "\n",
    "9. Listar código, nombre y año de independencia de todos los países, ordenados por antigüedad descendente. (Se esperan 3 columnas y 239 registros).\n",
    "\n",
    "10. Listar nombre y continente de los cien países con mayor expectativa de vida. Si hubiera países que tengan la misma expectativa de vida, mostrar primero a los de menor superficie. (Se esperan 2 columnas y 100 registros)."
   ]
  },
  {
   "cell_type": "code",
   "execution_count": 96,
   "metadata": {},
   "outputs": [],
   "source": [
    "# Establezco la conexión a la base de datos 'OPERACIONES.db' y creo un cursor\n",
    "db_world = sqlite3.connect('../../data/local_managers/world.db')\n",
    "cursor = db_world.cursor()\n",
    "\n",
    "# Definir las consultas y números de consulta\n",
    "consultas = {\n",
    "    6: \"SELECT * FROM country ORDER BY population ASC;\",\n",
    "    7: \"SELECT countrylanguage.Language FROM countrylanguage ORDER BY language ASC;\",\n",
    "    8: \"SELECT name, population FROM country GROUP BY name ORDER BY population ASC LIMIT 20;\",\n",
    "    9: \"SELECT code, name, indepyear FROM country GROUP BY name ORDER BY indepyear DESC;\",\n",
    "    10: \"SELECT name, continent FROM country GROUP BY name ORDER BY lifeexpectancy DESC, surfacearea ASC LIMIT 100;\"\n",
    "}\n",
    "\n",
    "# Ejecutar las consultas y guardar los resultados\n",
    "for numero_consulta, consulta in consultas.items():\n",
    "    ejecutar_consulta(consulta, numero_consulta, resultados)\n",
    "\n",
    "db_world.close()"
   ]
  },
  {
   "cell_type": "markdown",
   "metadata": {},
   "source": [
    "#### FUNCIONES DE AGRUPAMIENTO"
   ]
  },
  {
   "cell_type": "markdown",
   "metadata": {},
   "source": [
    "36. Mostrar según la tabla de países, la cantidad total de población, la población máxima, la población mínima, el promedio de población y con cuántos registros de población se cuenta. (Se esperan 5 columnas y 1 registro).\n",
    "\n",
    "37. Mostrar según la tabla de países, la cantidad total de población, la población máxima, la población mínima y el promedio de población, por cada continente. (Se esperan 5 columnas y 7 registros).\n",
    "\n",
    "38. Agrupar a todos los países según el continente al que pertenecen. Mostrar los continentes junto a la cantidad de naciones que pertenecen a cada uno. (Se esperan 2 columnas y 7 registros).\n",
    "\n",
    "39. Agrupar a todas las ciudades según el país al que pertenecen. Mostrar los códigos de países junto a la sumatoria total de habitantes de cada uno. (Se esperan 2 columnas y 232 registros).\n",
    "\n",
    "40. Agrupar a todos los lenguajes según su nombre. Mostrar los nombres de los lenguajes junto al porcentaje de habla mínimo registrado para cada uno. (Se esperan 2 columnas y 457 registros).\n",
    "\n",
    "41. Mostrar las distintas formas de gobierno posibles de los países europeos junto a su correspondiente promedio de población que vive bajo estas circunstancias. (Se esperan 2 columnas y 10 registros).\n",
    "\n",
    "42. Mostrar las diez regiones de mayor expectativa de vida promedio. (Se esperan 2 columnas y 10 registros).\n",
    "\n",
    "43. Mostrar los nombres de los diez distritos de mayor cantidad de ciudades con cantidad de habitantes mayor al medio millón, junto a la cantidad de ciudades. (Se esperan 3 columnas y 10 registros).\n",
    "\n",
    "44. Mostrar los nombres de los países que tengan ciudades en el Caribe, junto al número de las mismas por país. (Se esperan 2 columnas y 24 registros).\n",
    "\n",
    "45. Mostrar los lenguajes existentes junto a la cantidad de países que lo hablan de manera oficial. (Se esperan 2 columnas y 102 registros)."
   ]
  },
  {
   "cell_type": "code",
   "execution_count": 97,
   "metadata": {},
   "outputs": [],
   "source": [
    "# Establezco la conexión a la base de datos 'OPERACIONES.db' y creo un cursor\n",
    "db_world = sqlite3.connect('../../data/local_managers/world.db')\n",
    "cursor = db_world.cursor()\n",
    "\n",
    "# Definir las consultas y números de consulta\n",
    "consultas = {\n",
    "    36: \"SELECT count(population) as poblacion, max(population) as poblacion_maxima, min(population) as poblacion_minima, avg(population) as poblacion_promedio, count(*) as cantidad_registros FROM country;\",\n",
    "    37: \"SELECT continent, count(population) as cantidad_poblacion, max(population) as poblacion_maxima, min(population) as poblacion_minima, avg(population) as poblacion_promedio FROM country GROUP BY continent;\",\n",
    "    38: \"SELECT continent, count(name) as cantidad_naciones FROM country GROUP BY continent;\",\n",
    "    39: \"SELECT country.name, country.code, sum(city.population) as total_habitantes FROM country INNER JOIN city ON country.code = city.countrycode GROUP BY country.code;\",\n",
    "    40: \"SELECT language, min(percentage) as porcentaje_minimo FROM countrylanguage GROUP BY language;\",\n",
    "    41: \"SELECT governmentform, avg(population) as poblacion_promedio FROM country WHERE continent = 'Europe' GROUP BY governmentform;\",\n",
    "    42: \"SELECT region, avg(lifeexpectancy) as expectativa_vida_promedio FROM country GROUP BY region ORDER BY expectativa_vida_promedio DESC LIMIT 10;\",\n",
    "    43: \"SELECT district, count(name) as cantidad_ciudades FROM city WHERE population > 500000 GROUP BY district ORDER BY cantidad_ciudades DESC LIMIT 10;\",\n",
    "    44: \"SELECT country.name, count(city.name) as cantidad_ciudades_caribe FROM country INNER JOIN city ON city.countrycode = country.code WHERE city.name = 'Caribe' GROUP BY country.name;\",\n",
    "    45: \"SELECT language, count(DISTINCT country.name) as cantidad_paises_que_lo_hablan FROM country INNER JOIN countrylanguage ON country.code = countrylanguage.countrycode GROUP BY language;\"\n",
    "}\n",
    "\n",
    "# Ejecutar las consultas y guardar los resultados\n",
    "for numero_consulta, consulta in consultas.items():\n",
    "    ejecutar_consulta(consulta, numero_consulta, resultados)\n",
    "\n",
    "db_world.close()"
   ]
  },
  {
   "cell_type": "markdown",
   "metadata": {},
   "source": [
    "## Respuesta a preguntas"
   ]
  },
  {
   "cell_type": "markdown",
   "metadata": {},
   "source": [
    "Ingrese un numero entre 1 y 60 y obtendra la respuesta."
   ]
  },
  {
   "cell_type": "code",
   "execution_count": 111,
   "metadata": {},
   "outputs": [
    {
     "name": "stdout",
     "output_type": "stream",
     "text": [
      "[('ABW', 'Aruba', 'North America', 'Caribbean', 193.0, None, 103000, 78.4, 828.0, 793.0, 'Aruba', 'Nonmetropolitan Territory of The Netherlands', 'Beatrix', 129, 'AW')]\n"
     ]
    }
   ],
   "source": [
    "try:\n",
    "    numero_respuesta = input('Ingresa un número entre 1 y 60 para ver la respuesta a la pregunta: ')\n",
    "    numero_consulta = int(numero_respuesta)  # Convertir la entrada a un número entero\n",
    "\n",
    "    if 1 <= numero_consulta <= 60:\n",
    "        print(resultados.get(numero_consulta, \"Respuesta no encontrada\"))\n",
    "    else:\n",
    "        print(\"El número ingresado está fuera del rango (1-60).\")\n",
    "except ValueError:\n",
    "    print(\"Ingresa un número válido.\")\n",
    "except Exception as e:\n",
    "    print(f\"Ocurrió un error: {e}\")"
   ]
  }
 ],
 "metadata": {
  "kernelspec": {
   "display_name": "Python 3",
   "language": "python",
   "name": "python3"
  },
  "language_info": {
   "codemirror_mode": {
    "name": "ipython",
    "version": 3
   },
   "file_extension": ".py",
   "mimetype": "text/x-python",
   "name": "python",
   "nbconvert_exporter": "python",
   "pygments_lexer": "ipython3",
   "version": "3.11.4"
  }
 },
 "nbformat": 4,
 "nbformat_minor": 2
}
