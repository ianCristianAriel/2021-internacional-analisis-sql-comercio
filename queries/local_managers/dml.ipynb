{
 "cells": [
  {
   "cell_type": "markdown",
   "metadata": {},
   "source": [
    "## GENERAL"
   ]
  },
  {
   "cell_type": "markdown",
   "metadata": {},
   "source": [
    "### LIBRERIAS"
   ]
  },
  {
   "cell_type": "code",
   "execution_count": 35,
   "metadata": {},
   "outputs": [],
   "source": [
    "# Importo las librerías necesarias\n",
    "import pandas as pd  # Para el manejo de dataframes\n",
    "import numpy as np  # Para la creación de arrays y el manejo de estadísticas\n",
    "import scipy.stats as st  # Para la obtención de estadísticas\n",
    "import sqlite3  # Para trabajar con bases de datos SQLite\n",
    "import plotly.express as px"
   ]
  },
  {
   "cell_type": "markdown",
   "metadata": {},
   "source": [
    "### BBDD INUPDE"
   ]
  },
  {
   "cell_type": "markdown",
   "metadata": {},
   "source": [
    "### QUERIES DML"
   ]
  },
  {
   "cell_type": "code",
   "execution_count": 36,
   "metadata": {},
   "outputs": [],
   "source": [
    "# Crear un diccionario para almacenar los resultados\n",
    "resultados = {}"
   ]
  },
  {
   "cell_type": "code",
   "execution_count": 37,
   "metadata": {},
   "outputs": [],
   "source": [
    "# Función para ejecutar las consultas y guardar los resultados en un diccionario\n",
    "def ejecutar_consulta(query, numero_consulta=0, resultados=''):\n",
    "    try:\n",
    "        cursor.execute(query)\n",
    "        resultados[numero_consulta] = cursor.fetchall()\n",
    "        try:\n",
    "            db_world.commit()\n",
    "            db_world.close()\n",
    "        except:\n",
    "            db_inupde.commit()\n",
    "            db_inupde.close()\n",
    "        return resultados\n",
    "    except Exception as e:\n",
    "        print(f\"Hubo un error al realizar el query {numero_consulta} en la base de datos: {str(e)}\")"
   ]
  },
  {
   "cell_type": "markdown",
   "metadata": {},
   "source": [
    "#### INSERT"
   ]
  },
  {
   "cell_type": "code",
   "execution_count": 38,
   "metadata": {},
   "outputs": [],
   "source": [
    "# Establezco la conexión a la base de datos 'OPERACIONES.db' y creo un cursor\n",
    "db_inupde = sqlite3.connect('../../data/local_managers/inupde.db')\n",
    "cursor = db_inupde.cursor()\n",
    "\n",
    "# Abre y lee el archivo .sql que contiene las consultas de inserción\n",
    "with open('../../data/inupde.sql', 'r') as file:\n",
    "    sql_script = file.read()\n",
    "\n",
    "# Divide el script en consultas individuales\n",
    "consultas = sql_script.split('),(')\n",
    "\n",
    "# Filtra y ejecuta las consultas con 6 comillas simples\n",
    "for consulta in consultas[2:]:\n",
    "    try:\n",
    "        consulta_sql = \"INSERT INTO `clientes` (id_cliente, dni, nombre, apellido, genero, fecha_nacimiento, mail, movil, domicilio, barrio, nacionalidad) VALUES (\" + consulta + \")\"\n",
    "        cursor.execute(consulta_sql)\n",
    "    except:\n",
    "        pass"
   ]
  },
  {
   "cell_type": "markdown",
   "metadata": {},
   "source": [
    "### BBDD WORLD\n"
   ]
  },
  {
   "cell_type": "markdown",
   "metadata": {},
   "source": [
    "#### INSERT\n"
   ]
  },
  {
   "cell_type": "markdown",
   "metadata": {},
   "source": [
    "##### TABLA CITY"
   ]
  },
  {
   "cell_type": "code",
   "execution_count": 39,
   "metadata": {},
   "outputs": [],
   "source": [
    "# Establezco la conexión a la base de datos 'OPERACIONES.db' y creo un cursor\n",
    "db_world = sqlite3.connect('../../data/local_managers/world.db')\n",
    "cursor = db_world.cursor()\n",
    "\n",
    "# Abre y lee el archivo .sql que contiene las consultas de inserción\n",
    "with open('../../data/world_city.sql', 'r') as file:\n",
    "    sql_script = file.read()\n",
    "\n",
    "# Divide el script en instrucciones individuales\n",
    "sql_statements = sql_script.split(';')\n",
    "\n",
    "# Ejecuta cada declaración SQL\n",
    "for statement in sql_statements:\n",
    "    statement = statement.strip()\n",
    "    if statement:\n",
    "        try:\n",
    "            cursor.executescript(statement)\n",
    "        except:\n",
    "            pass"
   ]
  },
  {
   "cell_type": "markdown",
   "metadata": {},
   "source": [
    "##### TABLA COUNTRY"
   ]
  },
  {
   "cell_type": "code",
   "execution_count": 40,
   "metadata": {},
   "outputs": [],
   "source": [
    "# Establezco la conexión a la base de datos 'OPERACIONES.db' y creo un cursor\n",
    "db_world = sqlite3.connect('../../data/local_managers/world.db')\n",
    "cursor = db_world.cursor()\n",
    "\n",
    "# Abre y lee el archivo .sql que contiene las consultas de inserción\n",
    "with open('../../data/world_country.sql', 'r') as file:\n",
    "    sql_script = file.read()\n",
    "\n",
    "# Divide el script en instrucciones individuales\n",
    "sql_statements = sql_script.split(';')\n",
    "\n",
    "# Ejecuta cada declaración SQL\n",
    "for statement in sql_statements:\n",
    "    statement = statement.strip()\n",
    "    if statement:\n",
    "        try:\n",
    "            cursor.executescript(statement)\n",
    "        except:\n",
    "            pass"
   ]
  },
  {
   "cell_type": "markdown",
   "metadata": {},
   "source": [
    "##### TABLA COUNTRY LANGUAGE"
   ]
  },
  {
   "cell_type": "code",
   "execution_count": 41,
   "metadata": {},
   "outputs": [],
   "source": [
    "# Establezco la conexión a la base de datos 'OPERACIONES.db' y creo un cursor\n",
    "db_world = sqlite3.connect('../../data/local_managers/world.db')\n",
    "cursor = db_world.cursor()\n",
    "\n",
    "# Abre y lee el archivo .sql que contiene las consultas de inserción\n",
    "with open('../../data/world_country_language.sql', 'r') as file:\n",
    "    sql_script = file.read()\n",
    "\n",
    "# Divide el script en instrucciones individuales\n",
    "sql_statements = sql_script.split(';')\n",
    "\n",
    "# Ejecuta cada declaración SQL\n",
    "for statement in sql_statements:\n",
    "    statement = statement.strip()\n",
    "    if statement:\n",
    "        try:\n",
    "            cursor.executescript(statement)\n",
    "        except:\n",
    "            pass"
   ]
  },
  {
   "cell_type": "markdown",
   "metadata": {},
   "source": [
    "##### GUIA DE EJERSICIOS"
   ]
  },
  {
   "cell_type": "markdown",
   "metadata": {},
   "source": [
    "51. Insertar un nuevo cliente con los siguientes datos:\n",
    "52. Insertar los siguientes clientes en una sola consulta:\n",
    "53. Insertar una cliente llamada María Sol González:"
   ]
  },
  {
   "cell_type": "code",
   "execution_count": 42,
   "metadata": {},
   "outputs": [
    {
     "name": "stdout",
     "output_type": "stream",
     "text": [
      "Hubo un error al realizar el query 51 en la base de datos: database is locked\n",
      "Hubo un error al realizar el query 52 en la base de datos: execute() argument 1 must be str, not list\n",
      "Hubo un error al realizar el query 53 en la base de datos: database is locked\n"
     ]
    }
   ],
   "source": [
    "db_inupde = sqlite3.connect('../../data/local_managers/inupde.db')\n",
    "cursor = db_inupde.cursor()\n",
    "\n",
    "# Definir las consultas de inserción y números de consulta\n",
    "consultas_insercion = {\n",
    "    51: \"INSERT INTO clientes (DNI, nombre, apellido, genero, Fecha_nacimiento, Mail, Movil, domicilio, Barrio, Nacionalidad) VALUES ('12169851', 'Luis Enrique', 'Pérez', 'HOMBRE', '1954-06-01', 'perez_luisenrique@ma1l.com', '1157319468', 'Pujol 416', 'Caballito', 'Uruguay')\",\n",
    "    52: [\n",
    "        \"INSERT INTO clientes (DNI, nombre, apellido, genero, Fecha_nacimiento, Mail, Movil, domicilio, Barrio, Nacionalidad) VALUES ('17278290','Florencia','Santos','MUJER','1963-07-12','flor.santos@ma1l.com','1148434346','Piran 3015','Villa Urquiza','Argentina')\",\n",
    "        \"INSERT INTO clientes (DNI, nombre, apellido, genero, Fecha_nacimiento, Mail, Movil, domicilio, Barrio, Nacionalidad) VALUES ('16839283','Luisa Nina','Escudero','MUJER','1962-03-22','lulu62@hushma1l.com','1175940343','Superi 348 1º A','Colegiales','Colombia')\",\n",
    "        \"INSERT INTO clientes (DNI, nombre, apellido, genero, Fecha_nacimiento, Mail, Movil, domicilio, Barrio, Nacionalidad) VALUES ('19164274','Carlos Alberto','Medina','HOMBRE','1966-04-26','medinacarlosalberto@z0h0.com','1123423451','Mexico 2121','Balvanera','Argentina')\"\n",
    "    ],\n",
    "    53: \"INSERT INTO clientes (DNI, nombre, apellido, genero, Fecha_nacimiento, Mail, Movil, domicilio, Barrio, Nacionalidad) VALUES ('36.427.254', 'Maria Sol', 'Gonzalez', 'MUJER', '1992-08-15', 'ma.gon54@gma1l.com', '1136782013', 'Gurruchaga 243', 'Villa Crespo', 'Argentina')\"\n",
    "}\n",
    "\n",
    "# Ejecutar las consultas de inserción\n",
    "for numero_consulta, consulta in consultas_insercion.items():\n",
    "    ejecutar_consulta(consulta, numero_consulta, resultados)\n"
   ]
  },
  {
   "cell_type": "markdown",
   "metadata": {},
   "source": [
    "#### UPDATE"
   ]
  },
  {
   "cell_type": "markdown",
   "metadata": {},
   "source": [
    "54. Modificar el apellido de la cliente 85 por 'Chaves'.\n",
    "55. Agregar un cero a la izquierda de todos los DNI con exactamente siete cifras.\n",
    "56. Agregar una tilde a todos los clientes llamados 'Nicolas' como único nombre para que el mismo pase a ser 'Nicolás'.\n",
    "57. Poner en mayúsculas los apellidos de los clientes cuya nacionalidad no sea 'Argentina'."
   ]
  },
  {
   "cell_type": "code",
   "execution_count": 43,
   "metadata": {},
   "outputs": [
    {
     "name": "stdout",
     "output_type": "stream",
     "text": [
      "Hubo un error al realizar el query 54 en la base de datos: database is locked\n",
      "Hubo un error al realizar el query 55 en la base de datos: database is locked\n",
      "Hubo un error al realizar el query 56 en la base de datos: database is locked\n",
      "Hubo un error al realizar el query 57 en la base de datos: database is locked\n"
     ]
    }
   ],
   "source": [
    "db_inupde = sqlite3.connect('../../data/local_managers/inupde.db')\n",
    "cursor = db_inupde.cursor()\n",
    "\n",
    "# Definir las consultas de modificación y números de consulta\n",
    "consultas_modificacion = {\n",
    "    54: \"UPDATE clientes SET apellido = 'Chaves' WHERE ID_cliente = 85;\",\n",
    "    55: \"UPDATE clientes SET dni = substr('0' || dni, -8) WHERE length(dni) = 7;\",\n",
    "    56: \"UPDATE clientes SET nombre = 'Nicolás' WHERE nombre = 'Nicolas';\",\n",
    "    57: \"UPDATE clientes SET apellido = upper(apellido) WHERE nacionalidad != 'Argentina';\"\n",
    "}\n",
    "\n",
    "# Ejecutar las consultas de modificación\n",
    "for numero_consulta, consulta in consultas_modificacion.items():\n",
    "    ejecutar_consulta(consulta, numero_consulta, resultados)\n"
   ]
  },
  {
   "cell_type": "markdown",
   "metadata": {},
   "source": [
    "#### DELETE\n"
   ]
  },
  {
   "cell_type": "markdown",
   "metadata": {},
   "source": [
    "58. Eliminar al cliente 9804. (Se espera 1 registro afectado).\n",
    "59. Eliminar a los clientes cuyo servidor de mail sea 'z0h0'. (Se esperan 2127 registros afectados).\n",
    "60. Eliminar a todos los clientes que residan en el barrio de 'Flores'. (Se esperan 803 registros afectados)."
   ]
  },
  {
   "cell_type": "code",
   "execution_count": 44,
   "metadata": {},
   "outputs": [
    {
     "name": "stdout",
     "output_type": "stream",
     "text": [
      "Hubo un error al realizar el query 58 en la base de datos: database is locked\n",
      "Hubo un error al realizar el query 59 en la base de datos: database is locked\n",
      "Hubo un error al realizar el query 60 en la base de datos: database is locked\n"
     ]
    }
   ],
   "source": [
    "db_inupde = sqlite3.connect('../../data/local_managers/inupde.db')\n",
    "cursor = db_inupde.cursor()\n",
    "\n",
    "# Definir las consultas de eliminación y números de consulta\n",
    "consultas_eliminacion = {\n",
    "    58: \"DELETE FROM clientes WHERE id_cliente = 9804;\",\n",
    "    59: \"DELETE FROM clientes WHERE mail like '%@z0h0%';\",\n",
    "    60: \"DELETE FROM clientes WHERE barrio = 'Floresta';\"\n",
    "}\n",
    "\n",
    "# Ejecutar las consultas de eliminación\n",
    "for numero_consulta, consulta in consultas_eliminacion.items():\n",
    "    ejecutar_consulta(consulta, numero_consulta, resultados)\n"
   ]
  },
  {
   "cell_type": "markdown",
   "metadata": {},
   "source": [
    "#### SELECT"
   ]
  },
  {
   "cell_type": "markdown",
   "metadata": {},
   "source": [
    "11. Listar todos los datos de los países que no cuenten con habitantes. (Se esperan 15 columnas y 7 registros).\n",
    "\n",
    "12. Listar todos los datos de los países cuya expectativa de vida supere los setenta y cinco años, ordenados bajo este concepto de forma ascendente. (Se esperan 15 columnas y 62 registros).\n",
    "\n",
    "13. Listar todos los datos de los países cuya independencia haya ocurrido a partir de la segunda mitad del siglo XIX y su forma de gobierno sea una monarquía constitucional. (Se esperan 15 columnas y 20 registros).\n",
    "\n",
    "14. Listar todos los datos de los diez países europeos de mayor PBN. (Se esperan 15 columnas y 10 registros).\n",
    "\n",
    "15. Listar todos los datos de los países cuyo nombre registrado coincida con su nombre local. (Se esperan 15 columnas y 104 registros).\n",
    "\n",
    "16. Listar todos los datos de los países cuya independencia se haya dado a partir de la segunda mitad del siglo XX. (Se esperan 15 columnas y 110 registros).\n",
    "\n",
    "17. Listar todos los datos de los países situados en Europa, Asia o Sudamérica. (Se esperan 15 columnas y 111 registros).\n",
    "\n",
    "18. Listar todos los datos de todos los países, excepto los africanos. (Se esperan 15 columnas y 181 registros).\n",
    "\n",
    "19. Listar todos los datos de las ciudades argentinas fuera de la provincia de Buenos Aires. (Se esperan 5 columnas y 26 registros).\n",
    "\n",
    "20. Listar todos los datos de las ciudades de entre 125 mil y 130 mil habitantes. (Se esperan 5 columnas y 138 registros)."
   ]
  },
  {
   "cell_type": "code",
   "execution_count": 45,
   "metadata": {},
   "outputs": [
    {
     "name": "stdout",
     "output_type": "stream",
     "text": [
      "{11: [('ATA', 'Antarctica', 'Antarctica', 'Antarctica', 13120000.0, None, 0, None, 0.0, None, '�', 'Co-administrated', '', None, 'AQ'), ('ATF', 'French Southern territories', 'Antarctica', 'Antarctica', 7780.0, None, 0, None, 0.0, None, 'Terres australes fran�aises', 'Nonmetropolitan Territory of France', 'Jacques Chirac', None, 'TF'), ('BVT', 'Bouvet Island', 'Antarctica', 'Antarctica', 59.0, None, 0, None, 0.0, None, 'Bouvet�ya', 'Dependent Territory of Norway', 'Harald V', None, 'BV'), ('HMD', 'Heard Island and McDonald Islands', 'Antarctica', 'Antarctica', 359.0, None, 0, None, 0.0, None, 'Heard and McDonald Islands', 'Territory of Australia', 'Elisabeth II', None, 'HM'), ('IOT', 'British Indian Ocean Territory', 'Africa', 'Eastern Africa', 78.0, None, 0, None, 0.0, None, 'British Indian Ocean Territory', 'Dependent Territory of the UK', 'Elisabeth II', None, 'IO'), ('SGS', 'South Georgia and the South Sandwich Islands', 'Antarctica', 'Antarctica', 3903.0, None, 0, None, 0.0, None, 'South Georgia and the South Sandwich Islands', 'Dependent Territory of the UK', 'Elisabeth II', None, 'GS'), ('UMI', 'United States Minor Outlying Islands', 'Oceania', 'Micronesia/Caribbean', 16.0, None, 0, None, 0.0, None, 'United States Minor Outlying Islands', 'Dependent Territory of the US', 'George W. Bush', None, 'UM')]}\n",
      "Hubo un error al realizar el query 12 en la base de datos: Cannot operate on a closed database.\n",
      "None\n",
      "Hubo un error al realizar el query 13 en la base de datos: Cannot operate on a closed database.\n",
      "None\n",
      "Hubo un error al realizar el query 14 en la base de datos: Cannot operate on a closed database.\n",
      "None\n",
      "Hubo un error al realizar el query 15 en la base de datos: Cannot operate on a closed database.\n",
      "None\n",
      "Hubo un error al realizar el query 16 en la base de datos: Cannot operate on a closed database.\n",
      "None\n",
      "Hubo un error al realizar el query 17 en la base de datos: Cannot operate on a closed database.\n",
      "None\n",
      "Hubo un error al realizar el query 18 en la base de datos: Cannot operate on a closed database.\n",
      "None\n",
      "Hubo un error al realizar el query 19 en la base de datos: Cannot operate on a closed database.\n",
      "None\n",
      "Hubo un error al realizar el query 20 en la base de datos: Cannot operate on a closed database.\n",
      "None\n"
     ]
    }
   ],
   "source": [
    "# Establezco la conexión a la base de datos 'OPERACIONES.db' y creo un cursor\n",
    "db_world = sqlite3.connect('../../data/local_managers/world.db')\n",
    "cursor = db_world.cursor()\n",
    "\n",
    "# Definir las consultas y números de consulta\n",
    "consultas = {\n",
    "    11: \"SELECT * FROM country WHERE population = 0;\",\n",
    "    12: \"SELECT * FROM country WHERE lifeexpectancy > 75 ORDER BY lifeexpectancy ASC;\",\n",
    "    13: \"SELECT * FROM country WHERE indepyear > 1850 AND governmentform = 'Constitutional Monarchy';\",\n",
    "    14: \"SELECT * FROM country WHERE continent = 'Europe' ORDER BY gnp DESC LIMIT 10;\",\n",
    "    15: \"SELECT * FROM country WHERE name = localname;\",\n",
    "    16: \"SELECT * FROM country WHERE indepyear > 1950;\",\n",
    "    17: \"SELECT * FROM country WHERE continent IN ('Europe', 'Asia', 'Sudamérica');\",\n",
    "    18: \"SELECT * FROM country WHERE continent != 'Africa';\",\n",
    "    19: \"\"\"\n",
    "        SELECT city.* \n",
    "        FROM city \n",
    "        JOIN country ON city.countrycode = country.code \n",
    "        WHERE city.countrycode IN (SELECT code FROM country WHERE capital = 'Buenos Aires' AND name = 'Argentina')\n",
    "        AND country.code != 'AR';\n",
    "    \"\"\",\n",
    "    20: \"\"\"\n",
    "        SELECT city.* \n",
    "        FROM city \n",
    "        JOIN country ON city.countrycode = country.code \n",
    "        WHERE city.population BETWEEN 125000 AND 130000;\n",
    "    \"\"\"\n",
    "}\n",
    "\n",
    "# Ejecutar las consultas y guardar los resultados\n",
    "for numero_consulta, consulta in consultas.items():\n",
    "    resultado_consulta = ejecutar_consulta(consulta, numero_consulta, resultados)\n",
    "    print(resultado_consulta)"
   ]
  },
  {
   "cell_type": "markdown",
   "metadata": {},
   "source": [
    "21. Listar todos los datos de los países donde no se cuente con datos acerca de su independencia. (Se esperan 15 columnas y 47 registros).\n",
    "22. Listar todos los datos de los países donde no se tengan datos acerca del PBN anterior ni de la expectativa de vida.\n",
    "23. Listar todos los datos de los países cuyo nombre comience y termine con 'A'. (Se esperan 15 columnas y 13 registros). (Se esperan 15 columnas y 17 registros).\n",
    "24. Listar todos los datos de los países cuyo nombre sea compuesto (más de una palabra). (Se esperan 15 columnas y 66 registros).\n",
    "25. Listar todos los datos de las ciudades cuyo nombre o distrito contengan un '-' (guión medio). (Se esperan 5 columnas y 372 registros)."
   ]
  },
  {
   "cell_type": "code",
   "execution_count": 46,
   "metadata": {},
   "outputs": [
    {
     "name": "stdout",
     "output_type": "stream",
     "text": [
      "Hubo un error al realizar el query 22 en la base de datos: Cannot operate on a closed database.\n",
      "Hubo un error al realizar el query 23 en la base de datos: Cannot operate on a closed database.\n",
      "Hubo un error al realizar el query 24 en la base de datos: Cannot operate on a closed database.\n",
      "Hubo un error al realizar el query 25 en la base de datos: Cannot operate on a closed database.\n"
     ]
    }
   ],
   "source": [
    "# Establezco la conexión a la base de datos 'OPERACIONES.db' y creo un cursor\n",
    "db_world = sqlite3.connect('../../data/local_managers/world.db')\n",
    "cursor = db_world.cursor()\n",
    "\n",
    "# Definir las consultas y números de consulta\n",
    "consultas = {\n",
    "    21: \"SELECT * FROM country WHERE indepyear IS NULL;\",\n",
    "    22: \"SELECT * FROM country WHERE gnp IS NULL AND lifeexpectancy IS NULL;\",\n",
    "    23: \"SELECT * FROM country WHERE name LIKE 'A%A';\",\n",
    "    24: \"SELECT * FROM country WHERE name LIKE '% %';\",\n",
    "    25: \"\"\"\n",
    "        SELECT city.* \n",
    "        FROM country \n",
    "        INNER JOIN city ON country.code = city.countrycode \n",
    "        WHERE city.name LIKE '%-%' OR city.district LIKE '%-%';\n",
    "    \"\"\"\n",
    "}\n",
    "\n",
    "# Ejecutar las consultas y guardar los resultados\n",
    "for numero_consulta, consulta in consultas.items():\n",
    "    ejecutar_consulta(consulta, numero_consulta, resultados)\n"
   ]
  },
  {
   "cell_type": "markdown",
   "metadata": {},
   "source": [
    "##### FILTRADO"
   ]
  },
  {
   "cell_type": "markdown",
   "metadata": {},
   "source": [
    "21. Listar todos los datos de los países donde no se cuente con datos acerca de su independencia. (Se esperan 15 columnas y 47 registros).\n",
    "22. Listar todos los datos de los países donde no se tengan datos acerca del PBN anterior ni de la expectativa de vida. (Se esperan 15 columnas y 17 registros).\n",
    "23. Listar todos los datos de los países cuyo nombre comience y termine con 'A'. (Se esperan 15 columnas y 13 registros).\n",
    "24. Listar todos los datos de los países cuyo nombre sea compuesto (más de una palabra). (Se esperan 15 columnas y 66 registros).\n",
    "25. Listar todos los datos de las ciudades cuyo nombre o distrito contengan un '-' (guión medio). (Se esperan 5 columnas y 372 registros)."
   ]
  },
  {
   "cell_type": "code",
   "execution_count": 47,
   "metadata": {},
   "outputs": [
    {
     "name": "stdout",
     "output_type": "stream",
     "text": [
      "Hubo un error al realizar el query 22 en la base de datos: Cannot operate on a closed database.\n",
      "Hubo un error al realizar el query 23 en la base de datos: Cannot operate on a closed database.\n",
      "Hubo un error al realizar el query 24 en la base de datos: Cannot operate on a closed database.\n",
      "Hubo un error al realizar el query 25 en la base de datos: Cannot operate on a closed database.\n"
     ]
    }
   ],
   "source": [
    "# Establezco la conexión a la base de datos 'OPERACIONES.db' y creo un cursor\n",
    "db_world = sqlite3.connect('../../data/local_managers/world.db')\n",
    "cursor = db_world.cursor()\n",
    "\n",
    "# Definir las consultas y números de consulta\n",
    "consultas = {\n",
    "    21: \"SELECT * FROM country WHERE indepyear IS NULL;\",\n",
    "    22: \"SELECT * FROM country WHERE gnp IS NULL AND lifeexpectancy IS NULL;\",\n",
    "    23: \"SELECT * FROM country WHERE name LIKE 'A%A';\",\n",
    "    24: \"SELECT * FROM country WHERE name LIKE '% %';\",\n",
    "    25: \"\"\"\n",
    "        SELECT city.* \n",
    "        FROM country \n",
    "        INNER JOIN city ON country.code = city.countrycode \n",
    "        WHERE city.name LIKE '%-%';\n",
    "    \"\"\"\n",
    "}\n",
    "\n",
    "# Ejecutar las consultas y guardar los resultados\n",
    "for numero_consulta, consulta in consultas.items():\n",
    "    ejecutar_consulta(consulta, numero_consulta, resultados)\n"
   ]
  },
  {
   "cell_type": "markdown",
   "metadata": {},
   "source": [
    "46. Mostrar listados los años de independencia (sin nulos) junto a la cantidad de países que la hayan conseguido en ese año. Se desea visualizar aquellos años donde más de un país se haya independizado. (Se esperan 2 columnas y 39 registros).\n",
    "\n",
    "47. Listar los países junto a la cantidad de idiomas diferentes hablados, pero solo aquellos donde se hablen entre tres y cinco idiomas diferentes. (Se esperan 2 columnas y 80 registros).\n",
    "\n",
    "48. Mostrar los distritos, junto al nombre del país al que pertenecen, cuya población total (también listada) no supere los diez mil habitantes. (Se esperan 3 columnas y 35 registros).\n",
    "\n",
    "49. Mostrar las regiones junto a su densidad poblacional promedio, donde ésta supere a la mitad de la densidad poblacional máxima. (Se esperan 2 columnas y 3 registros).\n",
    "\n",
    "50. Mostrar los lenguajes oficiales junto a su porcentaje promedio de habla, cuyo promedio no supere un dígito entero. (Se esperan 2 columnas y 7 registros)."
   ]
  },
  {
   "cell_type": "code",
   "execution_count": 48,
   "metadata": {},
   "outputs": [
    {
     "name": "stdout",
     "output_type": "stream",
     "text": [
      "Hubo un error al realizar el query 47 en la base de datos: Cannot operate on a closed database.\n",
      "Hubo un error al realizar el query 48 en la base de datos: Cannot operate on a closed database.\n",
      "Hubo un error al realizar el query 49 en la base de datos: Cannot operate on a closed database.\n",
      "Hubo un error al realizar el query 50 en la base de datos: Cannot operate on a closed database.\n"
     ]
    }
   ],
   "source": [
    "# Establezco la conexión a la base de datos 'OPERACIONES.db' y creo un cursor\n",
    "db_world = sqlite3.connect('../../data/local_managers/world.db')\n",
    "cursor = db_world.cursor()\n",
    "\n",
    "# Definir las consultas y números de consulta\n",
    "consultas = {\n",
    "    46: \"SELECT country.indepyear as anio_independencia, count(country.name) as cantidad_paises FROM country WHERE indepyear IS NOT NULL GROUP BY country.indepyear HAVING cantidad_paises > 1;\",\n",
    "    47: \"SELECT country.name, count(countrylanguage.countrycode) as cantidad_idiomas FROM country INNER JOIN countrylanguage ON country.code = countrylanguage.countrycode GROUP BY country.name HAVING cantidad_idiomas BETWEEN 3 AND 5;\",\n",
    "    48: \"SELECT city.district, city.name, sum(city.population) as poblacion_suma FROM city INNER JOIN country ON city.countrycode = country.code GROUP BY district HAVING poblacion_suma < 10000;\",\n",
    "    49: \"SELECT region, avg(population) as poblacion_promedio FROM country GROUP BY region HAVING poblacion_promedio > (SELECT max(population) / 2 FROM country);\",\n",
    "    50: \"SELECT language, avg(percentage) as promedio_habla FROM countrylanguage GROUP BY language HAVING promedio_habla < 1;\"\n",
    "}\n",
    "\n",
    "# Ejecutar las consultas y guardar los resultados\n",
    "for numero_consulta, consulta in consultas.items():\n",
    "    ejecutar_consulta(consulta, numero_consulta, resultados)\n"
   ]
  },
  {
   "cell_type": "markdown",
   "metadata": {},
   "source": [
    "26. Listar los nombres de los países sudamericanos junto a los nombres (alias 'Capital') de sus capitales. (Se esperan 2 columnas y 14 registros).\n",
    "\n",
    "27. Listar el código de país, junto a los nombres de las ciudades y su cantidad de habitantes, de aquellos cuya expectativa de vida sea mayor a 80. (Se esperan 3 columnas y 253 registros).\n",
    "\n",
    "28. Listar las capitales de los países cuya forma de gobierno sea una República Federal. (Se esperan 2 columnas y 15 registros).\n",
    "\n",
    "29. Listar los lenguajes oficiales, junto al nombre de sus respectivos países, donde la cantidad de habitantes de dicho país esté entre un millón y tres millones. (Se esperan 2 columnas y 14 registros).\n",
    "\n",
    "30. Listar los códigos, los nombres locales y la región a la que pertenecen aquellos países donde se hable español. (Se esperan 3 columnas y 28 registros).\n",
    "\n",
    "31. Listar los nombres y las capitales de los países en cuya capital se concentre más de la mitad de su población total. (Se esperan 2 columnas y 14 registros).\n",
    "\n",
    "32. Listar los nombres y la superficie de los países africanos cuya capital coincida con el nombre del distrito a la que pertenece. (Se esperan 2 columnas y 32 registros).\n",
    "\n",
    "33. Listar los nombres, las capitales y el año de independencia (sin nulos) de los 20 países más antiguos. (Se esperan 3 columnas y 20 registros).\n",
    "\n",
    "34. Listar las ciudades junto a sus idiomas oficiales, donde no se hable español, inglés, portugués, italiano, francés o alemán de manera oficial. (Se esperan 2 columnas y 2694 registros).\n",
    "\n",
    "35. Listar nombre, población y país de las diez ciudades europeas de habla inglesa más pobladas. (Se esperan 3 columnas y 10 registros)."
   ]
  },
  {
   "cell_type": "code",
   "execution_count": 49,
   "metadata": {},
   "outputs": [
    {
     "name": "stdout",
     "output_type": "stream",
     "text": [
      "Hubo un error al realizar el query 27 en la base de datos: Cannot operate on a closed database.\n",
      "Hubo un error al realizar el query 28 en la base de datos: Cannot operate on a closed database.\n",
      "Hubo un error al realizar el query 29 en la base de datos: Cannot operate on a closed database.\n",
      "Hubo un error al realizar el query 30 en la base de datos: Cannot operate on a closed database.\n",
      "Hubo un error al realizar el query 31 en la base de datos: Cannot operate on a closed database.\n",
      "Hubo un error al realizar el query 32 en la base de datos: Cannot operate on a closed database.\n",
      "Hubo un error al realizar el query 33 en la base de datos: Cannot operate on a closed database.\n",
      "Hubo un error al realizar el query 34 en la base de datos: Cannot operate on a closed database.\n",
      "Hubo un error al realizar el query 35 en la base de datos: Cannot operate on a closed database.\n"
     ]
    }
   ],
   "source": [
    "# Establezco la conexión a la base de datos 'OPERACIONES.db' y creo un cursor\n",
    "db_world = sqlite3.connect('../../data/local_managers/world.db')\n",
    "cursor = db_world.cursor()\n",
    "\n",
    "# Definir las consultas y números de consulta\n",
    "consultas = {\n",
    "    26: \"SELECT name AS pais, capital AS Capital FROM country WHERE continent = 'South America';\",\n",
    "    27: \"SELECT country.code, city.name AS nombre_ciudad, city.population AS poblacion FROM country INNER JOIN city ON country.code = city.countrycode WHERE country.lifeexpectancy > 80;\",\n",
    "    28: \"SELECT country.name AS Capital FROM country INNER JOIN city ON city.id = country.capital WHERE governmentform = 'Federal Republic';\",\n",
    "    29: \"SELECT countrylanguage.language, country.name AS pais FROM country INNER JOIN countrylanguage ON country.code = countrylanguage.countrycode WHERE country.population BETWEEN 1000000 AND 3000000;\",\n",
    "    30: \"SELECT country.code, country.localname, country.region FROM country INNER JOIN countrylanguage ON country.code = countrylanguage.countrycode WHERE countrylanguage.language = 'Spanish';\",\n",
    "    31: \"SELECT country.name, city.name AS Capital FROM country INNER JOIN city ON country.capital = city.id WHERE city.population > country.population / 2;\",\n",
    "    32: \"SELECT country.name, country.surfacearea FROM country INNER JOIN city ON country.capital = city.id WHERE city.name = city.district AND country.continent = 'Africa';\",\n",
    "    33: \"SELECT country.name, city.name AS Capital, country.indepyear FROM country INNER JOIN city ON country.capital = city.id WHERE country.name IS NOT NULL AND city.name IS NOT NULL AND country.indepyear IS NOT NULL ORDER BY country.indepyear DESC LIMIT 20;\",\n",
    "    34: \"SELECT city.name AS nombre_ciudad, countrylanguage.language FROM country INNER JOIN city ON country.code = city.countrycode INNER JOIN countrylanguage ON country.code = countrylanguage.countrycode WHERE countrylanguage.language NOT IN ('Spanish', 'English', 'Portuguese', 'German', 'Italian', 'French');\",\n",
    "    35: \"SELECT city.name AS nombre_ciudad, city.population AS poblacion, country.name AS pais FROM country INNER JOIN city ON country.capital = city.id WHERE country.continent = 'Europe' GROUP BY city.name ORDER BY city.population DESC LIMIT 10;\"\n",
    "}\n",
    "\n",
    "# Ejecutar las consultas y guardar los resultados\n",
    "for numero_consulta, consulta in consultas.items():\n",
    "    ejecutar_consulta(consulta, numero_consulta, resultados)\n"
   ]
  },
  {
   "cell_type": "markdown",
   "metadata": {},
   "source": [
    "6. Listar toda la información de los países, ordenados por población de manera ascendente. (Se esperan 15 columnas y 239 registros).\n",
    "\n",
    "7. Listar nombre de los lenguajes en orden alfabético. (Se espera 1 columna y 984 registros).\n",
    "\n",
    "8. Listar nombre y cantidad de habitantes de las veinte ciudades menos pobladas. (Se esperan 2 columnas y 20 registros).\n",
    "\n",
    "9. Listar código, nombre y año de independencia de todos los países, ordenados por antigüedad descendente. (Se esperan 3 columnas y 239 registros).\n",
    "\n",
    "10. Listar nombre y continente de los cien países con mayor expectativa de vida. Si hubiera países que tengan la misma expectativa de vida, mostrar primero a los de menor superficie. (Se esperan 2 columnas y 100 registros)."
   ]
  },
  {
   "cell_type": "code",
   "execution_count": 50,
   "metadata": {},
   "outputs": [
    {
     "ename": "TypeError",
     "evalue": "ejecutar_consulta() got an unexpected keyword argument 'operacion'",
     "output_type": "error",
     "traceback": [
      "\u001b[0;31m---------------------------------------------------------------------------\u001b[0m",
      "\u001b[0;31mTypeError\u001b[0m                                 Traceback (most recent call last)",
      "\u001b[1;32m/Users/cristianariel/Documents/Codigo/sql_tienda_int/queries/local_managers/dml.ipynb Celda 40\u001b[0m line \u001b[0;36m1\n\u001b[1;32m     <a href='vscode-notebook-cell:/Users/cristianariel/Documents/Codigo/sql_tienda_int/queries/local_managers/dml.ipynb#X46sZmlsZQ%3D%3D?line=13'>14</a>\u001b[0m \u001b[39m# Ejecutar las consultas y guardar los resultados\u001b[39;00m\n\u001b[1;32m     <a href='vscode-notebook-cell:/Users/cristianariel/Documents/Codigo/sql_tienda_int/queries/local_managers/dml.ipynb#X46sZmlsZQ%3D%3D?line=14'>15</a>\u001b[0m \u001b[39mfor\u001b[39;00m numero_consulta, consulta \u001b[39min\u001b[39;00m consultas\u001b[39m.\u001b[39mitems():\n\u001b[0;32m---> <a href='vscode-notebook-cell:/Users/cristianariel/Documents/Codigo/sql_tienda_int/queries/local_managers/dml.ipynb#X46sZmlsZQ%3D%3D?line=15'>16</a>\u001b[0m     ejecutar_consulta(consulta, numero_consulta, resultados, operacion\u001b[39m=\u001b[39;49m\u001b[39m'\u001b[39;49m\u001b[39mread\u001b[39;49m\u001b[39m'\u001b[39;49m)\n",
      "\u001b[0;31mTypeError\u001b[0m: ejecutar_consulta() got an unexpected keyword argument 'operacion'"
     ]
    }
   ],
   "source": [
    "# Establezco la conexión a la base de datos 'OPERACIONES.db' y creo un cursor\n",
    "db_world = sqlite3.connect('../../data/local_managers/world.db')\n",
    "cursor = db_world.cursor()\n",
    "\n",
    "# Definir las consultas y números de consulta\n",
    "consultas = {\n",
    "    6: \"SELECT * FROM country ORDER BY population ASC;\",\n",
    "    7: \"SELECT countrylanguage.Language FROM countrylanguage ORDER BY language ASC;\",\n",
    "    8: \"SELECT name, population FROM country GROUP BY name ORDER BY population ASC LIMIT 20;\",\n",
    "    9: \"SELECT code, name, indepyear FROM country GROUP BY name ORDER BY indepyear DESC;\",\n",
    "    10: \"SELECT name, continent FROM country GROUP BY name ORDER BY lifeexpectancy DESC, surfacearea ASC LIMIT 100;\"\n",
    "}\n",
    "\n",
    "# Ejecutar las consultas y guardar los resultados\n",
    "for numero_consulta, consulta in consultas.items():\n",
    "    ejecutar_consulta(consulta, numero_consulta, resultados, operacion='read')\n"
   ]
  },
  {
   "cell_type": "markdown",
   "metadata": {},
   "source": [
    "#### FUNCIONES DE AGRUPAMIENTO"
   ]
  },
  {
   "cell_type": "markdown",
   "metadata": {},
   "source": [
    "36. Mostrar según la tabla de países, la cantidad total de población, la población máxima, la población mínima, el promedio de población y con cuántos registros de población se cuenta. (Se esperan 5 columnas y 1 registro).\n",
    "\n",
    "37. Mostrar según la tabla de países, la cantidad total de población, la población máxima, la población mínima y el promedio de población, por cada continente. (Se esperan 5 columnas y 7 registros).\n",
    "\n",
    "38. Agrupar a todos los países según el continente al que pertenecen. Mostrar los continentes junto a la cantidad de naciones que pertenecen a cada uno. (Se esperan 2 columnas y 7 registros).\n",
    "\n",
    "39. Agrupar a todas las ciudades según el país al que pertenecen. Mostrar los códigos de países junto a la sumatoria total de habitantes de cada uno. (Se esperan 2 columnas y 232 registros).\n",
    "\n",
    "40. Agrupar a todos los lenguajes según su nombre. Mostrar los nombres de los lenguajes junto al porcentaje de habla mínimo registrado para cada uno. (Se esperan 2 columnas y 457 registros).\n",
    "\n",
    "41. Mostrar las distintas formas de gobierno posibles de los países europeos junto a su correspondiente promedio de población que vive bajo estas circunstancias. (Se esperan 2 columnas y 10 registros).\n",
    "\n",
    "42. Mostrar las diez regiones de mayor expectativa de vida promedio. (Se esperan 2 columnas y 10 registros).\n",
    "\n",
    "43. Mostrar los nombres de los diez distritos de mayor cantidad de ciudades con cantidad de habitantes mayor al medio millón, junto a la cantidad de ciudades. (Se esperan 3 columnas y 10 registros).\n",
    "\n",
    "44. Mostrar los nombres de los países que tengan ciudades en el Caribe, junto al número de las mismas por país. (Se esperan 2 columnas y 24 registros).\n",
    "\n",
    "45. Mostrar los lenguajes existentes junto a la cantidad de países que lo hablan de manera oficial. (Se esperan 2 columnas y 102 registros)."
   ]
  },
  {
   "cell_type": "code",
   "execution_count": null,
   "metadata": {},
   "outputs": [],
   "source": [
    "# Establezco la conexión a la base de datos 'OPERACIONES.db' y creo un cursor\n",
    "db_world = sqlite3.connect('../../data/local_managers/world.db')\n",
    "cursor = db_world.cursor()\n",
    "\n",
    "# Definir las consultas y números de consulta\n",
    "consultas = {\n",
    "    36: \"SELECT count(population) as poblacion, max(population) as poblacion_maxima, min(population) as poblacion_minima, avg(population) as poblacion_promedio, count(*) as cantidad_registros FROM country;\",\n",
    "    37: \"SELECT continent, count(population) as cantidad_poblacion, max(population) as poblacion_maxima, min(population) as poblacion_minima, avg(population) as poblacion_promedio FROM country GROUP BY continent;\",\n",
    "    38: \"SELECT continent, count(name) as cantidad_naciones FROM country GROUP BY continent;\",\n",
    "    39: \"SELECT country.name, country.code, sum(city.population) as total_habitantes FROM country INNER JOIN city ON country.code = city.countrycode GROUP BY country.code;\",\n",
    "    40: \"SELECT language, min(percentage) as porcentaje_minimo FROM countrylanguage GROUP BY language;\",\n",
    "    41: \"SELECT governmentform, avg(population) as poblacion_promedio FROM country WHERE continent = 'Europe' GROUP BY governmentform;\",\n",
    "    42: \"SELECT region, avg(lifeexpectancy) as expectativa_vida_promedio FROM country GROUP BY region ORDER BY expectativa_vida_promedio DESC LIMIT 10;\",\n",
    "    43: \"SELECT district, count(name) as cantidad_ciudades FROM city WHERE population > 500000 GROUP BY district ORDER BY cantidad_ciudades DESC LIMIT 10;\",\n",
    "    44: \"SELECT country.name, count(city.name) as cantidad_ciudades_caribe FROM country INNER JOIN city ON city.countrycode = country.code WHERE city.name = 'Caribe' GROUP BY country.name;\",\n",
    "    45: \"SELECT language, count(DISTINCT country.name) as cantidad_paises_que_lo_hablan FROM country INNER JOIN countrylanguage ON country.code = countrylanguage.countrycode GROUP BY language;\"\n",
    "}\n",
    "\n",
    "# Ejecutar las consultas y guardar los resultados\n",
    "for numero_consulta, consulta in consultas.items():\n",
    "    ejecutar_consulta(consulta, numero_consulta, resultados)\n"
   ]
  }
 ],
 "metadata": {
  "kernelspec": {
   "display_name": "Python 3",
   "language": "python",
   "name": "python3"
  },
  "language_info": {
   "codemirror_mode": {
    "name": "ipython",
    "version": 3
   },
   "file_extension": ".py",
   "mimetype": "text/x-python",
   "name": "python",
   "nbconvert_exporter": "python",
   "pygments_lexer": "ipython3",
   "version": "3.11.4"
  }
 },
 "nbformat": 4,
 "nbformat_minor": 2
}
