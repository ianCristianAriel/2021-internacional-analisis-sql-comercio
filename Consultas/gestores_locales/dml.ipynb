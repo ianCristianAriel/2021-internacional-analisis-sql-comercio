{
 "cells": [
  {
   "cell_type": "markdown",
   "metadata": {},
   "source": [
    "## GENERAL"
   ]
  },
  {
   "cell_type": "markdown",
   "metadata": {},
   "source": [
    "### LIBRERIAS"
   ]
  },
  {
   "cell_type": "code",
   "execution_count": 2,
   "metadata": {},
   "outputs": [],
   "source": [
    "# Importo las librerías necesarias\n",
    "import pandas as pd  # Para el manejo de dataframes\n",
    "import numpy as np  # Para la creación de arrays y el manejo de estadísticas\n",
    "import scipy.stats as st  # Para la obtención de estadísticas\n",
    "import sqlite3  # Para trabajar con bases de datos SQLite\n",
    "import plotly.express as px"
   ]
  },
  {
   "cell_type": "markdown",
   "metadata": {},
   "source": [
    "### BBDD INUPDE"
   ]
  },
  {
   "cell_type": "code",
   "execution_count": 47,
   "metadata": {},
   "outputs": [],
   "source": [
    "# Establezco la conexión a la base de datos 'OPERACIONES.db' y creo un cursor\n",
    "db_inupde = sqlite3.connect('../../datos/gestores_locales/INUPDE.db')\n",
    "cursor = db_inupde.cursor()"
   ]
  },
  {
   "cell_type": "markdown",
   "metadata": {},
   "source": [
    "### QUERIES DML"
   ]
  },
  {
   "cell_type": "code",
   "execution_count": 23,
   "metadata": {},
   "outputs": [],
   "source": [
    "# Defino una función llamada query_dml para ejecutar consultas DML y devolver los registros resultantes.\n",
    "def query_dml(query, operacion=''):\n",
    "    try:\n",
    "\n",
    "            if operacion == 'read':\n",
    "                cursor.execute(query)\n",
    "                registros = cursor.fetchall()\n",
    "                if registros:\n",
    "                    return registros\n",
    "                else:\n",
    "                    print('La consulta no retornó registros.')\n",
    "            elif operacion == 'insert':\n",
    "                cursor.executescript(query)\n",
    "\n",
    "            print('Query ejecutado con éxito.')\n",
    "\n",
    "    except Exception as e:\n",
    "        print('Hubo un error al realizar el query en la base de datos:', str(e))\n"
   ]
  },
  {
   "cell_type": "markdown",
   "metadata": {},
   "source": [
    "#### INSERT"
   ]
  },
  {
   "cell_type": "code",
   "execution_count": 49,
   "metadata": {},
   "outputs": [
    {
     "ename": "OperationalError",
     "evalue": "near \",\": syntax error",
     "output_type": "error",
     "traceback": [
      "\u001b[0;31m---------------------------------------------------------------------------\u001b[0m",
      "\u001b[0;31mOperationalError\u001b[0m                          Traceback (most recent call last)",
      "\u001b[1;32m/Users/cristianariel/Documents/Codigo/sql_tienda_int/Consultas/gestor_local/dml.ipynb Celda 9\u001b[0m line \u001b[0;36m6\n\u001b[1;32m      <a href='vscode-notebook-cell:/Users/cristianariel/Documents/Codigo/sql_tienda_int/Consultas/gestor_local/dml.ipynb#X23sZmlsZQ%3D%3D?line=2'>3</a>\u001b[0m     sql_script \u001b[39m=\u001b[39m file\u001b[39m.\u001b[39mread()\n\u001b[1;32m      <a href='vscode-notebook-cell:/Users/cristianariel/Documents/Codigo/sql_tienda_int/Consultas/gestor_local/dml.ipynb#X23sZmlsZQ%3D%3D?line=4'>5</a>\u001b[0m \u001b[39m# Ejecuta el script SQL\u001b[39;00m\n\u001b[0;32m----> <a href='vscode-notebook-cell:/Users/cristianariel/Documents/Codigo/sql_tienda_int/Consultas/gestor_local/dml.ipynb#X23sZmlsZQ%3D%3D?line=5'>6</a>\u001b[0m cursor\u001b[39m.\u001b[39;49mexecutescript(sql_script)\n",
      "\u001b[0;31mOperationalError\u001b[0m: near \",\": syntax error"
     ]
    }
   ],
   "source": [
    "# Abre y lee el archivo .sql que contiene las consultas de inserción\n",
    "with open('../../Datos/gestores__cliente_servidor/inupde.sql', 'r') as file:\n",
    "    sql_script = file.read()\n",
    "\n",
    "# Ejecuta el script SQL\n",
    "cursor.executescript(sql_script)"
   ]
  },
  {
   "cell_type": "code",
   "execution_count": null,
   "metadata": {},
   "outputs": [],
   "source": [
    "ALTER TABLE `inupde`.`clientes` \n",
    "CHANGE COLUMN `id_cliente` `id_cliente` INT(11) UNSIGNED NOT NULL AUTO_INCREMENT ;"
   ]
  },
  {
   "cell_type": "markdown",
   "metadata": {},
   "source": [
    "### CIERRE DE CONEXION BBDD INUPDE"
   ]
  },
  {
   "cell_type": "code",
   "execution_count": null,
   "metadata": {},
   "outputs": [],
   "source": [
    "db_inupde.commit()\n",
    "db_inupde.close()"
   ]
  },
  {
   "cell_type": "markdown",
   "metadata": {},
   "source": [
    "### BBDD WORLD\n"
   ]
  },
  {
   "cell_type": "code",
   "execution_count": 24,
   "metadata": {},
   "outputs": [],
   "source": [
    "# Establezco la conexión a la base de datos 'OPERACIONES.db' y creo un cursor\n",
    "db_world = sqlite3.connect('../../datos/gestores_locales/world.db')\n",
    "cursor = db_world.cursor()"
   ]
  },
  {
   "cell_type": "markdown",
   "metadata": {},
   "source": [
    "#### INSERT\n"
   ]
  },
  {
   "cell_type": "markdown",
   "metadata": {},
   "source": [
    "##### TABLA CITY"
   ]
  },
  {
   "cell_type": "code",
   "execution_count": 25,
   "metadata": {},
   "outputs": [
    {
     "name": "stdout",
     "output_type": "stream",
     "text": [
      "Hubo un error al realizar el query en la base de datos: UNIQUE constraint failed: city.ID\n"
     ]
    }
   ],
   "source": [
    "# Abre y lee el archivo .sql que contiene las consultas de inserción\n",
    "with open('../../Datos/world_city.sql', 'r') as file:\n",
    "    sql_script = file.read()\n",
    "\n",
    "# Ejecuta el script SQL\n",
    "query_dml(sql_script, 'insert')"
   ]
  },
  {
   "cell_type": "markdown",
   "metadata": {},
   "source": [
    "##### TABLA COUNTRY"
   ]
  },
  {
   "cell_type": "code",
   "execution_count": 27,
   "metadata": {},
   "outputs": [
    {
     "name": "stdout",
     "output_type": "stream",
     "text": [
      "Query ejecutado con éxito.\n"
     ]
    }
   ],
   "source": [
    "# Abre y lee el archivo .sql que contiene las consultas de inserción\n",
    "with open('../../Datos/world_country.sql', 'r') as file:\n",
    "    sql_script = file.read()\n",
    "\n",
    "# Ejecuta el script SQL\n",
    "query_dml(sql_script)"
   ]
  },
  {
   "cell_type": "markdown",
   "metadata": {},
   "source": [
    "##### TABLA COUNTRY LANGUAGE"
   ]
  },
  {
   "cell_type": "code",
   "execution_count": 29,
   "metadata": {},
   "outputs": [
    {
     "name": "stdout",
     "output_type": "stream",
     "text": [
      "Query ejecutado con éxito.\n"
     ]
    }
   ],
   "source": [
    "# Abre y lee el archivo .sql que contiene las consultas de inserción\n",
    "with open('../../Datos/world_country_language.sql', 'r') as file:\n",
    "    sql_script = file.read()\n",
    "\n",
    "# Ejecuta el script SQL\n",
    "query_dml(sql_script)"
   ]
  },
  {
   "cell_type": "markdown",
   "metadata": {},
   "source": [
    "### CIERRE DE CONEXION BBDD INUPDE"
   ]
  },
  {
   "cell_type": "code",
   "execution_count": 31,
   "metadata": {},
   "outputs": [],
   "source": [
    "db_world.commit()\n",
    "db_world.close()"
   ]
  }
 ],
 "metadata": {
  "kernelspec": {
   "display_name": "Python 3",
   "language": "python",
   "name": "python3"
  },
  "language_info": {
   "codemirror_mode": {
    "name": "ipython",
    "version": 3
   },
   "file_extension": ".py",
   "mimetype": "text/x-python",
   "name": "python",
   "nbconvert_exporter": "python",
   "pygments_lexer": "ipython3",
   "version": "3.11.4"
  }
 },
 "nbformat": 4,
 "nbformat_minor": 2
}
