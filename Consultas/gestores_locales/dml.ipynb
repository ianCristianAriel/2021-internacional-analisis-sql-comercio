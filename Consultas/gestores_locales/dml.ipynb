{
 "cells": [
  {
   "cell_type": "markdown",
   "metadata": {},
   "source": [
    "## GENERAL"
   ]
  },
  {
   "cell_type": "markdown",
   "metadata": {},
   "source": [
    "### LIBRERIAS"
   ]
  },
  {
   "cell_type": "code",
   "execution_count": 53,
   "metadata": {},
   "outputs": [],
   "source": [
    "# Importo las librerías necesarias\n",
    "import pandas as pd  # Para el manejo de dataframes\n",
    "import numpy as np  # Para la creación de arrays y el manejo de estadísticas\n",
    "import scipy.stats as st  # Para la obtención de estadísticas\n",
    "import sqlite3  # Para trabajar con bases de datos SQLite\n",
    "import plotly.express as px"
   ]
  },
  {
   "cell_type": "markdown",
   "metadata": {},
   "source": [
    "### BBDD INUPDE"
   ]
  },
  {
   "cell_type": "code",
   "execution_count": 83,
   "metadata": {},
   "outputs": [],
   "source": [
    "# Establezco la conexión a la base de datos 'OPERACIONES.db' y creo un cursor\n",
    "db_inupde = sqlite3.connect('../../datos/gestores_locales/inupde.db')\n",
    "cursor = db_inupde.cursor()"
   ]
  },
  {
   "cell_type": "markdown",
   "metadata": {},
   "source": [
    "### QUERIES DML"
   ]
  },
  {
   "cell_type": "code",
   "execution_count": 55,
   "metadata": {},
   "outputs": [],
   "source": [
    "# Defino una función llamada query_dml para ejecutar consultas DML y devolver los registros resultantes.\n",
    "def query_dml(query, operacion=''):\n",
    "    try:\n",
    "\n",
    "            if operacion == 'read':\n",
    "                cursor.execute(query)\n",
    "                registros = cursor.fetchall()\n",
    "                if registros:\n",
    "                    return registros\n",
    "                else:\n",
    "                    print('La consulta no retornó registros.')\n",
    "            elif operacion == 'insert':\n",
    "                cursor.executescript(query)\n",
    "\n",
    "            print('Query ejecutado con éxito.')\n",
    "\n",
    "    except Exception as e:\n",
    "        print('Hubo un error al realizar el query en la base de datos:', str(e))\n"
   ]
  },
  {
   "cell_type": "markdown",
   "metadata": {},
   "source": [
    "#### INSERT"
   ]
  },
  {
   "cell_type": "code",
   "execution_count": 84,
   "metadata": {},
   "outputs": [],
   "source": [
    "# Abre y lee el archivo .sql que contiene las consultas de inserción\n",
    "with open('../../Datos/inupde.sql', 'r') as file:\n",
    "    sql_script = file.read()\n",
    "\n"
   ]
  },
  {
   "cell_type": "code",
   "execution_count": 90,
   "metadata": {},
   "outputs": [],
   "source": [
    "# Abre y lee el archivo .sql que contiene las consultas de inserción\n",
    "with open('../../Datos/inupde.sql', 'r') as file:\n",
    "    sql_script = file.read()\n",
    "\n",
    "# Divide el script en consultas individuales\n",
    "consultas = sql_script.split('),(')\n",
    "\n",
    "# Filtra y ejecuta las consultas con 6 comillas simples\n",
    "for consulta in consultas[2:]:\n",
    "    try:\n",
    "        consulta_sql = \"INSERT INTO `clientes` (id_cliente, dni, nombre, apellido, genero, fecha_nacimiento, mail, movil, domicilio, barrio, nacionalidad) VALUES (\" + consulta + \")\"\n",
    "        cursor.execute(consulta_sql)\n",
    "    except:\n",
    "        pass"
   ]
  },
  {
   "cell_type": "markdown",
   "metadata": {},
   "source": [
    "### CIERRE DE CONEXION BBDD INUPDE"
   ]
  },
  {
   "cell_type": "code",
   "execution_count": 57,
   "metadata": {},
   "outputs": [
    {
     "ename": "ProgrammingError",
     "evalue": "Cannot operate on a closed database.",
     "output_type": "error",
     "traceback": [
      "\u001b[0;31m---------------------------------------------------------------------------\u001b[0m",
      "\u001b[0;31mProgrammingError\u001b[0m                          Traceback (most recent call last)",
      "\u001b[1;32m/Users/cristianariel/Documents/Codigo/sql_tienda_int/Consultas/gestores_locales/dml.ipynb Celda 11\u001b[0m line \u001b[0;36m1\n\u001b[0;32m----> <a href='vscode-notebook-cell:/Users/cristianariel/Documents/Codigo/sql_tienda_int/Consultas/gestores_locales/dml.ipynb#X13sZmlsZQ%3D%3D?line=0'>1</a>\u001b[0m db_inupde\u001b[39m.\u001b[39;49mcommit()\n\u001b[1;32m      <a href='vscode-notebook-cell:/Users/cristianariel/Documents/Codigo/sql_tienda_int/Consultas/gestores_locales/dml.ipynb#X13sZmlsZQ%3D%3D?line=1'>2</a>\u001b[0m db_inupde\u001b[39m.\u001b[39mclose()\n",
      "\u001b[0;31mProgrammingError\u001b[0m: Cannot operate on a closed database."
     ]
    }
   ],
   "source": [
    "db_inupde.commit()\n",
    "db_inupde.close()"
   ]
  },
  {
   "cell_type": "markdown",
   "metadata": {},
   "source": [
    "### BBDD WORLD\n"
   ]
  },
  {
   "cell_type": "code",
   "execution_count": null,
   "metadata": {},
   "outputs": [],
   "source": [
    "# Establezco la conexión a la base de datos 'OPERACIONES.db' y creo un cursor\n",
    "db_world = sqlite3.connect('../../datos/gestores_locales/world.db')\n",
    "cursor = db_world.cursor()"
   ]
  },
  {
   "cell_type": "markdown",
   "metadata": {},
   "source": [
    "#### INSERT\n"
   ]
  },
  {
   "cell_type": "markdown",
   "metadata": {},
   "source": [
    "##### TABLA CITY"
   ]
  },
  {
   "cell_type": "code",
   "execution_count": null,
   "metadata": {},
   "outputs": [
    {
     "name": "stdout",
     "output_type": "stream",
     "text": [
      "Query ejecutado con éxito.\n"
     ]
    }
   ],
   "source": [
    "# Abre y lee el archivo .sql que contiene las consultas de inserción\n",
    "with open('../../Datos/world_city.sql', 'r') as file:\n",
    "    sql_script = file.read()\n",
    "\n",
    "# Ejecuta el script SQL\n",
    "query_dml(sql_script, 'insert')"
   ]
  },
  {
   "cell_type": "markdown",
   "metadata": {},
   "source": [
    "##### TABLA COUNTRY"
   ]
  },
  {
   "cell_type": "code",
   "execution_count": null,
   "metadata": {},
   "outputs": [
    {
     "name": "stdout",
     "output_type": "stream",
     "text": [
      "Query ejecutado con éxito.\n"
     ]
    }
   ],
   "source": [
    "# Abre y lee el archivo .sql que contiene las consultas de inserción\n",
    "with open('../../Datos/world_country.sql', 'r') as file:\n",
    "    sql_script = file.read()\n",
    "\n",
    "# Ejecuta el script SQL\n",
    "query_dml(sql_script)"
   ]
  },
  {
   "cell_type": "markdown",
   "metadata": {},
   "source": [
    "##### TABLA COUNTRY LANGUAGE"
   ]
  },
  {
   "cell_type": "code",
   "execution_count": null,
   "metadata": {},
   "outputs": [
    {
     "name": "stdout",
     "output_type": "stream",
     "text": [
      "Query ejecutado con éxito.\n"
     ]
    }
   ],
   "source": [
    "# Abre y lee el archivo .sql que contiene las consultas de inserción\n",
    "with open('../../Datos/world_country_language.sql', 'r') as file:\n",
    "    sql_script = file.read()\n",
    "\n",
    "# Ejecuta el script SQL\n",
    "query_dml(sql_script)"
   ]
  },
  {
   "cell_type": "markdown",
   "metadata": {},
   "source": [
    "### CIERRE DE CONEXION BBDD INUPDE"
   ]
  },
  {
   "cell_type": "code",
   "execution_count": null,
   "metadata": {},
   "outputs": [],
   "source": [
    "db_world.commit()\n",
    "db_world.close()"
   ]
  }
 ],
 "metadata": {
  "kernelspec": {
   "display_name": "Python 3",
   "language": "python",
   "name": "python3"
  },
  "language_info": {
   "codemirror_mode": {
    "name": "ipython",
    "version": 3
   },
   "file_extension": ".py",
   "mimetype": "text/x-python",
   "name": "python",
   "nbconvert_exporter": "python",
   "pygments_lexer": "ipython3",
   "version": "3.11.4"
  }
 },
 "nbformat": 4,
 "nbformat_minor": 2
}
