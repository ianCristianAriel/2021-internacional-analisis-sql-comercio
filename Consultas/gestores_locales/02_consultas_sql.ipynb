{
 "cells": [
  {
   "cell_type": "markdown",
   "metadata": {},
   "source": [
    "## Simetrik-TIMTest (2020)"
   ]
  },
  {
   "cell_type": "markdown",
   "metadata": {},
   "source": [
    "\n",
    "### Overview & Purpose\n",
    "Con esta prueba buscamos conocer tus capacidades para trabajar bajo presión, tus conocimientos sobre bases de datos, tu proactividad y la velocidad con la que te puedes adaptar.\n",
    "\n",
    "### Requirements\n",
    "1. Conexión a Internet.\n",
    "2. Cualquier Motor de Bases de Datos que te permita cargar y hacer queries de la información que te compartiremos.\n",
    "3. Navegador Web (como Mozilla o Google Chrome).\n",
    "4. Toda tu disposición para trabajar totalmente concentrado y sin distracciones (en estado de Flow).\n",
    "\n",
    "### Objectives\n",
    "1. Entender el caso de uso descrito.\n",
    "2. Cargar la información compartida en un motor de bases de datos.\n",
    "3. Analizar, documentar y responder los interrogantes que se plantean en el ejercicio.\n",
    "4. Al finalizar, entregar los resultados en el formulario de evaluación.\n",
    "\n",
    "### Verification\n",
    "Se verificarán los siguientes aspectos:\n",
    "1. Porcentaje de cruce (conciliación) alcanzado.\n",
    "2. Número de transacciones conciliadas.\n",
    "3. Monto conciliado.\n",
    "4. Validez, consistencia y confiabilidad de la conciliación realizada.\n",
    "5. Código escrito.\n",
    "\n",
    "### Advise\n",
    "Haz tu plan de trabajo, define los tiempos que dedicarás a cada actividad antes de empezar.\n",
    "Tiempo para la prueba: 1 día a partir de...\n",
    "\n",
    "### Activity\n",
    "Uno de nuestros clientes, CLAP, maneja Datafonos y se encarga de procesar pagos. SIMETRIK es aliado para comparar las transacciones que se reportan a través de sus dispositivos contra las transacciones que se registran en las liquidaciones bancarias (BANSUR).\n",
    "\n",
    "Cada vez que el cliente CLAP reporta un pago con su datáfono, envía un registro a su base de datos y la base de datos de la adquirente BANSUR. Sin embargo, dada la gran cantidad de pagos que se realizan a diario, CLAP no puede llevar un control efectivo de todas las transacciones realizadas y necesitan verificar que todas las transacciones registradas en su base de datos también se encuentren en la base de BANSUR.\n",
    "\n",
    "**IMPORTANTE:** Una transacción regular se evidencia en la base de datos como un PAGO; se debe tener en cuenta que un mismo ID puede también tomar estado de Cancelación, Chargeback u Otros casos.\n",
    "\n",
    "Simetrik considera una partida como conciliable toda aquella transacción cuyo último estado en la base de datos, ordenado por fecha y hora, sea PAGADA.\n",
    "\n",
    "Para esto, SIMETRIK comparará para cada transacción campos únicos entre las dos entidades buscando encontrar parejas que sean exactamente iguales bajo las siguientes condiciones:\n",
    "\n",
    "1. Que tengan el mismo ID.\n",
    "2. Que tengan los mismos 6 primeros dígitos de la tarjeta.\n",
    "3. Que tengan los mismos 4 últimos dígitos de la tarjeta.\n",
    "4. Que el valor pagado en la transacción sea igual o que su diferencia esté en el rango de más o menos 0.99 pesos.\n",
    "5. Que tengan la misma fecha de transacción.\n"
   ]
  },
  {
   "cell_type": "markdown",
   "metadata": {},
   "source": [
    "## GENERAL"
   ]
  },
  {
   "cell_type": "markdown",
   "metadata": {},
   "source": [
    "### LIBRERIAS"
   ]
  },
  {
   "cell_type": "code",
   "execution_count": 207,
   "metadata": {},
   "outputs": [],
   "source": [
    "# Importo las librerías necesarias\n",
    "import pandas as pd  # Para el manejo de dataframes\n",
    "import numpy as np  # Para la creación de arrays y el manejo de estadísticas\n",
    "import scipy.stats as st  # Para la obtención de estadísticas\n",
    "import sqlite3  # Para trabajar con bases de datos SQLite\n",
    "import plotly.express as px"
   ]
  },
  {
   "cell_type": "markdown",
   "metadata": {},
   "source": [
    "### BBDD"
   ]
  },
  {
   "cell_type": "code",
   "execution_count": 208,
   "metadata": {},
   "outputs": [],
   "source": [
    "# Establezco la conexión a la base de datos 'OPERACIONES.db' y creo un cursor\n",
    "db_operaciones = sqlite3.connect('../datos/sql/OPERACIONES.db')\n",
    "cursor = db_operaciones.cursor()"
   ]
  },
  {
   "cell_type": "code",
   "execution_count": 209,
   "metadata": {},
   "outputs": [],
   "source": [
    "# Defino una función llamada query_dml para ejecutar consultas DML y devolver los registros resultantes.\n",
    "def query_dml(query):\n",
    "    try:\n",
    "        # Utilizo el cursor para ejecutar la consulta.\n",
    "        cursor.execute(query)\n",
    "\n",
    "        # Obtengo los resultados de la consulta y los almaceno en la variable 'registros'.\n",
    "        registros = cursor.fetchall()\n",
    "\n",
    "        print('Query ejecutado con éxito.')\n",
    "\n",
    "        # Verifico si hay registros en la respuesta antes de devolverlos.\n",
    "        if registros:\n",
    "            # Devuelvo los registros resultantes de la consulta.\n",
    "            return registros\n",
    "        else:\n",
    "            print('La consulta no retornó registros.')\n",
    "\n",
    "    except:\n",
    "        print('Hubo un error al realizar el query en la base de datos.')\n"
   ]
  },
  {
   "cell_type": "markdown",
   "metadata": {},
   "source": [
    "## TABLA CLAP"
   ]
  },
  {
   "cell_type": "code",
   "execution_count": 210,
   "metadata": {},
   "outputs": [],
   "source": [
    "# Leo el archivo CSV procesado y cargo los datos en un dataframe df_clap\n",
    "df_clap = pd.read_csv('../datos/csv/procesados/CLAP.csv')\n"
   ]
  },
  {
   "cell_type": "markdown",
   "metadata": {},
   "source": [
    "### CREACION"
   ]
  },
  {
   "cell_type": "code",
   "execution_count": 211,
   "metadata": {},
   "outputs": [
    {
     "name": "stdout",
     "output_type": "stream",
     "text": [
      "Query ejecutado con éxito.\n",
      "La consulta no retornó registros.\n"
     ]
    }
   ],
   "source": [
    "# Creo una tabla en la base de datos 'OPERACIONES.db' si no existe\n",
    "query = ('''\n",
    "    CREATE TABLE IF NOT EXISTS CLAP (\n",
    "        OPERACION_ID INTEGER PRIMARY KEY AUTOINCREMENT,\n",
    "        INICIO_TARJETA INT,\n",
    "        FINAL_TARJETA INT,\n",
    "        TIPO_TRX VARCHAR(20),\n",
    "        MONTO REAL,\n",
    "        FECHA_TRANSACCION DATETIME,\n",
    "        CODIGO_AUTORIZACION VARCHAR(20), \n",
    "        ID_BANCO REAL,\n",
    "        FECHA_RECEPCION_BANCO DATETIME,\n",
    "        FALTANTES VARCHAR(20),\n",
    "        HORA_TRANSACCION INT,\n",
    "        MINUTO_TRANSACCION INT\n",
    "    )\n",
    "''')\n",
    "\n",
    "query_dml(query)\n"
   ]
  },
  {
   "cell_type": "markdown",
   "metadata": {},
   "source": [
    "### DML QUERIES"
   ]
  },
  {
   "cell_type": "code",
   "execution_count": 212,
   "metadata": {},
   "outputs": [],
   "source": [
    "# Transferimos los datos de las columnas seleccionadas del DataFrame a la tabla 'CLAP' en la base de datos.\n",
    "# Si la tabla ya existe, añadimos los datos al final (append) sin considerar el índice del DataFrame.\n",
    "df_clap.to_sql('CLAP', db_operaciones, if_exists='append', index=False)\n",
    "\n",
    "# Confirmamos los cambios realizados en la base de datos para hacerlos permanentes.\n",
    "db_operaciones.commit()\n"
   ]
  },
  {
   "cell_type": "code",
   "execution_count": 213,
   "metadata": {},
   "outputs": [
    {
     "name": "stdout",
     "output_type": "stream",
     "text": [
      "Query ejecutado con éxito.\n",
      "(1, 443715, 190, 'CANCELADA', 21944.0, '2020-11-01', '136719', 47100185686.0, '2020-11-05', 'COMPLETO', 7, 50)\n",
      "(2, 802414, 6615, 'PAGADA', 42.51, '2020-11-01', '053042', 29607730901.0, '2020-11-02', 'COMPLETO', 4, 35)\n",
      "(3, 818156, 672, 'NO APLICA', 20.8, '2020-11-01', None, 497363207741.0, '2020-11-02', 'VERIFICAR', 4, 35)\n",
      "(4, 954015, 5581, 'PAGADA', 41.0, '2020-11-01', '013616', 441622557487.0, '2020-11-02', 'COMPLETO', 4, 35)\n",
      "(5, 954015, 2538, 'PAGADA', 68.0, '2020-11-01', '013602', 266554946896.0, '2020-11-02', 'COMPLETO', 4, 35)\n",
      "(6, 954015, 2581, 'PAGADA', 144.0, '2020-11-01', '013626', 106967585923.0, '2020-11-02', 'COMPLETO', 4, 35)\n",
      "(7, 818156, 8094, 'PAGADA', 189.5, '2020-11-01', '053064', 890554602678.0, '2020-11-02', 'COMPLETO', 4, 35)\n",
      "(8, 946891, 1670, 'NO APLICA', 776.6, '2020-11-01', 'H37254', 249718452281.0, '2020-11-02', 'COMPLETO', 4, 35)\n",
      "(9, 958758, 4254, 'PAGADA', 27.54, '2020-11-01', '151121', 243262174009.0, '2020-11-02', 'COMPLETO', 4, 35)\n",
      "(10, 930288, 8524, 'PAGADA', 88.0, '2020-11-01', '191788', 404749691060.0, '2020-11-02', 'COMPLETO', 4, 35)\n"
     ]
    }
   ],
   "source": [
    "# Realizamos una consulta SQL para seleccionar los primeros 10 registros de la tabla 'CLAP'.\n",
    "query = 'SELECT * FROM CLAP LIMIT 10'\n",
    "\n",
    "# Utilizamos la función query_dml() para ejecutar la consulta y obtener los registros.\n",
    "registros = query_dml(query)\n",
    "\n",
    "# Mostramos los registros obtenidos.\n",
    "# Iteramos a través de cada resultado en la lista 'registros' y los imprimimos en la consola.\n",
    "for registro in registros:\n",
    "    print(registro)\n"
   ]
  },
  {
   "cell_type": "markdown",
   "metadata": {},
   "source": [
    "## TABLA BANSUR"
   ]
  },
  {
   "cell_type": "code",
   "execution_count": 214,
   "metadata": {},
   "outputs": [],
   "source": [
    "# Cargamos datos desde un archivo CSV y los almacenamos en un DataFrame llamado 'df_bansur'.\n",
    "df_bansur = pd.read_csv('../datos/csv/procesados/BANSUR.csv')"
   ]
  },
  {
   "cell_type": "markdown",
   "metadata": {},
   "source": [
    "### DDL QUERIES"
   ]
  },
  {
   "cell_type": "code",
   "execution_count": 215,
   "metadata": {},
   "outputs": [
    {
     "name": "stdout",
     "output_type": "stream",
     "text": [
      "Query ejecutado con éxito.\n",
      "La consulta no retornó registros.\n"
     ]
    }
   ],
   "source": [
    "# Definimos una consulta SQL para crear una tabla llamada 'BANSUR' en la base de datos, si no existe.\n",
    "# La tabla tiene varias columnas con tipos de datos específicos.\n",
    "query = '''\n",
    "    CREATE TABLE IF NOT EXISTS BANSUR (\n",
    "        OPERACION_ID INTEGER PRIMARY KEY AUTOINCREMENT,\n",
    "        TARJETA REAL,\n",
    "        TIPO_TRX VARCHAR(30),\n",
    "        MONTO FLOAT,\n",
    "        FECHA_TRANSACCION DATETIME,\n",
    "        CODIGO_AUTORIZACION VARCHAR(20),\n",
    "        ID_ADQUIRIENTE REAL,\n",
    "        FECHA_RECEPCION DATETIME,\n",
    "        FALTANTES VARCHAR(20)\n",
    "    );\n",
    "'''\n",
    "\n",
    "query_dml(query)\n"
   ]
  },
  {
   "cell_type": "markdown",
   "metadata": {},
   "source": [
    "### DML QUERIES"
   ]
  },
  {
   "cell_type": "code",
   "execution_count": 216,
   "metadata": {},
   "outputs": [],
   "source": [
    "# Transferimos los datos del DataFrame 'df_bansur' a la tabla 'BANSUR' en la base de datos.\n",
    "# Si la tabla 'BANSUR' ya existe, añadimos los datos al final (append) sin incluir el índice del DataFrame.\n",
    "df_bansur.to_sql('BANSUR', db_operaciones, if_exists='append', index=False)\n",
    "\n",
    "# Confirmamos los cambios realizados en la base de datos para hacerlos permanentes.\n",
    "db_operaciones.commit()\n"
   ]
  },
  {
   "cell_type": "code",
   "execution_count": 217,
   "metadata": {},
   "outputs": [
    {
     "name": "stdout",
     "output_type": "stream",
     "text": [
      "Query ejecutado con éxito.\n",
      "(1, 9540150300.0, 'PAGO', 44.0, '2020-11-01', '272012', 320720237226.0, '2020-11-03', 'COMPLETO')\n",
      "(2, 9540150300.0, 'PAGO', 93.0, '2020-11-01', '216149', 812801092295.0, '2020-11-03', 'COMPLETO')\n",
      "(3, 9540150310.0, 'PAGO', 1579.0, '2020-11-01', '898544', 563080775636.0, '2020-11-03', 'COMPLETO')\n",
      "(4, 9540150319.0, 'PAGO', 86.0, '2020-11-01', '501928', 924685088703.0, '2020-11-03', 'COMPLETO')\n",
      "(5, 9540150314.0, 'PAGO', 679.0, '2020-11-01', '170207', 35452614774.0, '2020-11-03', 'COMPLETO')\n",
      "(6, 9540150347.0, 'PAGO', 75.0, '2020-11-01', '009187', 603396947906.0, '2020-11-03', 'COMPLETO')\n",
      "(7, 9540150383.0, 'PAGO', 525.0, '2020-11-01', '055165', 153266978.0, '2020-11-03', 'COMPLETO')\n",
      "(8, 9540150382.0, 'PAGO', 150.0, '2020-11-01', '912471', 217691630619.0, '2020-11-03', 'COMPLETO')\n",
      "(9, 9540150320.0, 'PAGO', 45.15, '2020-11-01', '440954', 773873869693.0, '2020-11-03', 'COMPLETO')\n",
      "(10, 9540150361.0, 'PAGO', 252.72, '2020-11-01', '990646', 23419715445.0, '2020-11-03', 'COMPLETO')\n"
     ]
    }
   ],
   "source": [
    "# Ejecutamos una consulta SQL para seleccionar los primeros 10 registros de la tabla 'BANSUR'.\n",
    "query = 'SELECT * FROM BANSUR LIMIT 10'\n",
    "\n",
    "# Utilizamos la función query_dml() para ejecutar la consulta y obtener los registros.\n",
    "registros = query_dml(query)\n",
    "\n",
    "# Mostramos los registros obtenidos.\n",
    "# Iteramos a través de cada resultado en la lista 'registros' y los imprimimos en la consola.\n",
    "for registro in registros:\n",
    "    print(registro)\n"
   ]
  },
  {
   "cell_type": "markdown",
   "metadata": {},
   "source": [
    "## PREGUNTAS\n",
    "1. Escriba el código de SQL que le permite conocer el monto y la cantidad de las transacciones que SIMETRIK considera como conciliables para la base de CLAP\n",
    "\n",
    "2. Escriba el código de SQL que le permite conocer el monto y la cantidad de las transacciones que SIMETRIK considera como conciliables para la base de BANSUR\n",
    "\n",
    "3. ¿Cómo se comparan las cifras de los puntos anteriores respecto de las cifras totales en las fuentes desde un punto de vista del negocio?\n",
    "\n",
    "4. Teniendo en cuenta los criterios de cruce entre ambas bases conciliables, escriba una sentencia de SQL que contenga la información de CLAP y BANSUR; agregue una columna en la que se evidencie si la transacción cruzó o no con su contrapartida y una columna en la que se inserte un ID autoincremental para el control de la conciliación\n",
    "\n",
    "5. Diseñe un código que calcule el porcentaje de transacciones de la base conciliable de CLAP cruzó contra la liquidación de BANSUR.\n",
    "\n",
    "6. Diseñe un código que calcule el porcentaje de transacciones de la base conciliable de BANSUR no cruzó contra la liquidación de CLAP.\n"
   ]
  },
  {
   "cell_type": "markdown",
   "metadata": {},
   "source": [
    "### 1)\n",
    "Escriba el código de SQL que le permite conocer el monto y la cantidad de las transacciones que SIMETRIK considera como conciliables para la base de CLAP"
   ]
  },
  {
   "cell_type": "code",
   "execution_count": 218,
   "metadata": {},
   "outputs": [
    {
     "name": "stdout",
     "output_type": "stream",
     "text": [
      "Query ejecutado con éxito.\n"
     ]
    },
    {
     "data": {
      "text/plain": [
       "{'Monto total: ': 61083701.26999945, 'Cantidad: ': 147341}"
      ]
     },
     "execution_count": 218,
     "metadata": {},
     "output_type": "execute_result"
    }
   ],
   "source": [
    "# Ejecutamos una consulta SQL para calcular el total de montos y la cantidad de pagos únicos en la tabla 'CLAP'.\n",
    "query = '''\n",
    "    SELECT sum(MONTO) as total_pagos, COUNT(*) AS cantidad_pagos\n",
    "    FROM (\n",
    "        SELECT *\n",
    "        FROM CLAP\n",
    "        WHERE (INICIO_TARJETA, FINAL_TARJETA, CODIGO_AUTORIZACION, FECHA_TRANSACCION) IN (\n",
    "            SELECT INICIO_TARJETA, FINAL_TARJETA, CODIGO_AUTORIZACION, MAX(FECHA_TRANSACCION) AS UltimaFecha\n",
    "            FROM CLAP\n",
    "            WHERE TIPO_TRX = 'PAGADA'\n",
    "            GROUP BY INICIO_TARJETA, FINAL_TARJETA, CODIGO_AUTORIZACION\n",
    "        )\n",
    "    ) AS PagosConciliados;\n",
    "'''\n",
    "\n",
    "# Utilizamos la función query_dml() para ejecutar la consulta y obtener los resultados.\n",
    "resultado = query_dml(query)\n",
    "\n",
    "# Obtenemos el monto total y la cantidad de pagos a partir de los resultados.\n",
    "cc_monto_total = resultado[0][0]\n",
    "cc_cantidad = resultado[0][1]\n",
    "\n",
    "# Creamos un diccionario para almacenar el monto total y la cantidad de pagos.\n",
    "clap_monto_totalpagos = {\n",
    "    'Monto total: ': cc_monto_total,\n",
    "    'Cantidad: ': cc_cantidad\n",
    "}\n",
    "\n",
    "# Mostramos el diccionario con el monto total y la cantidad de pagos.\n",
    "clap_monto_totalpagos\n"
   ]
  },
  {
   "cell_type": "markdown",
   "metadata": {},
   "source": [
    "### Respuesta\n",
    "\n",
    "En relación a la tabla de Clap, se puede observar que:\n",
    "\n",
    "- La cantidad de transacciones conciliadas es de **147,341**.\n",
    "- El monto total de las transacciones conciliadas asciende a **$61,083,701.26**."
   ]
  },
  {
   "cell_type": "markdown",
   "metadata": {},
   "source": [
    "### 2)\n",
    "Escriba el código de SQL que le permite conocer el monto y la cantidad de las transacciones que SIMETRIK considera como conciliables para la base de BANSUR"
   ]
  },
  {
   "cell_type": "code",
   "execution_count": 219,
   "metadata": {},
   "outputs": [
    {
     "name": "stdout",
     "output_type": "stream",
     "text": [
      "Query ejecutado con éxito.\n"
     ]
    },
    {
     "data": {
      "text/plain": [
       "{'Monto total: ': 53980675.02999962, 'Cantidad: ': 132389}"
      ]
     },
     "execution_count": 219,
     "metadata": {},
     "output_type": "execute_result"
    }
   ],
   "source": [
    "# Ejecutamos una consulta SQL para calcular el total de montos y la cantidad de pagos únicos en la tabla 'BANSUR'.\n",
    "query = '''\n",
    "    SELECT sum(MONTO) as total_pagos, COUNT(*) AS cantidad_pagos\n",
    "    FROM (\n",
    "        SELECT *\n",
    "        FROM BANSUR\n",
    "        WHERE (TARJETA, CODIGO_AUTORIZACION, FECHA_TRANSACCION) IN (\n",
    "            SELECT TARJETA, CODIGO_AUTORIZACION, MAX(FECHA_TRANSACCION) AS UltimaFecha\n",
    "            FROM BANSUR\n",
    "            WHERE TIPO_TRX = 'PAGO' \n",
    "            GROUP BY TARJETA, CODIGO_AUTORIZACION\n",
    "        )\n",
    "    ) AS PagosConciliados;\n",
    "'''\n",
    "\n",
    "# Utilizamos la función query_dml() para ejecutar la consulta y obtener los resultados.\n",
    "resultado = query_dml(query)\n",
    "\n",
    "# Obtenemos el monto total y la cantidad de pagos a partir de los resultados.\n",
    "bc_monto_total = resultado[0][0]\n",
    "bc_cantidad = resultado[0][1]\n",
    "\n",
    "# Creamos un diccionario para almacenar el monto total y la cantidad de pagos.\n",
    "bansur_monto_totalpagos = {\n",
    "    'Monto total: ': bc_monto_total,\n",
    "    'Cantidad: ': bc_cantidad\n",
    "}\n",
    "\n",
    "# Mostramos el diccionario con el monto total y la cantidad de pagos.\n",
    "bansur_monto_totalpagos\n"
   ]
  },
  {
   "cell_type": "markdown",
   "metadata": {},
   "source": [
    "### Respuesta\n",
    "\n",
    "En cuanto a la tabla de Bansur, los datos conciliados son los siguientes:\n",
    "\n",
    "- Cantidad de transacciones conciliadas: **132,389**.\n",
    "- Monto total de las transacciones conciliadas: **$53,980,675.02**."
   ]
  },
  {
   "cell_type": "markdown",
   "metadata": {},
   "source": [
    "### 3, 5 y 6)\n",
    "- ¿Cómo se comparan las cifras de los puntos anteriores respecto de las cifras totales en las fuentes desde un punto de vista del negocio?\n",
    "\n",
    "- Diseñe un código que calcule el porcentaje de transacciones de la base conciliable de CLAP cruzó contra la liquidación de BANSUR.\n",
    "\n",
    "- Diseñe un código que calcule el porcentaje de transacciones de la base conciliable de BANSUR no cruzó contra la liquidación de CLAP."
   ]
  },
  {
   "cell_type": "code",
   "execution_count": 220,
   "metadata": {},
   "outputs": [
    {
     "name": "stdout",
     "output_type": "stream",
     "text": [
      "Query ejecutado con éxito.\n"
     ]
    },
    {
     "data": {
      "text/plain": [
       "{'Monto total: ': -3645.0, 'Cantidad: ': 109}"
      ]
     },
     "execution_count": 220,
     "metadata": {},
     "output_type": "execute_result"
    }
   ],
   "source": [
    "# Ejecutamos una consulta SQL para calcular el total de montos y la cantidad de transacciones canceladas en la tabla 'BANSUR'.\n",
    "query = '''\n",
    "    SELECT sum(MONTO) as total_pagos, COUNT(*) AS cantidad_pagos\n",
    "    FROM (\n",
    "        SELECT *\n",
    "        FROM BANSUR\n",
    "        WHERE (TARJETA, CODIGO_AUTORIZACION, FECHA_TRANSACCION) IN (\n",
    "            SELECT TARJETA, CODIGO_AUTORIZACION, FECHA_TRANSACCION\n",
    "            FROM BANSUR\n",
    "            WHERE TIPO_TRX = 'CANCELACION'\n",
    "        )\n",
    "    ) AS Pagos;\n",
    "'''\n",
    "\n",
    "# Utilizamos la función query_dml() para ejecutar la consulta y obtener los resultados.\n",
    "resultado = query_dml(query)\n",
    "\n",
    "# Obtenemos el monto total y la cantidad de transacciones canceladas a partir de los resultados.\n",
    "bnc_monto_total = resultado[0][0]\n",
    "bnc_cantidad = resultado[0][1]\n",
    "\n",
    "# Creamos un diccionario para almacenar el monto total y la cantidad de transacciones canceladas.\n",
    "bansur_nc_monto_totalpagos = {\n",
    "    'Monto total: ': bnc_monto_total,\n",
    "    'Cantidad: ': bnc_cantidad\n",
    "}\n",
    "\n",
    "# Mostramos el diccionario con el monto total y la cantidad de transacciones canceladas.\n",
    "bansur_nc_monto_totalpagos\n"
   ]
  },
  {
   "cell_type": "code",
   "execution_count": 221,
   "metadata": {},
   "outputs": [
    {
     "name": "stdout",
     "output_type": "stream",
     "text": [
      "Query ejecutado con éxito.\n"
     ]
    },
    {
     "data": {
      "text/plain": [
       "{'Monto total: ': 5096160.979999999, 'Cantidad: ': 3549}"
      ]
     },
     "execution_count": 221,
     "metadata": {},
     "output_type": "execute_result"
    }
   ],
   "source": [
    "# Ejecutamos una consulta SQL para calcular el total de montos y la cantidad de transacciones canceladas y \"no aplicables\" en la tabla 'CLAP'.\n",
    "query = '''\n",
    "    SELECT sum(MONTO) as total_pagos, COUNT(*) AS cantidad_pagos\n",
    "    FROM (\n",
    "        SELECT *\n",
    "        FROM CLAP\n",
    "        WHERE (INICIO_TARJETA, FINAL_TARJETA, CODIGO_AUTORIZACION, FECHA_TRANSACCION) IN (\n",
    "            SELECT INICIO_TARJETA, FINAL_TARJETA, CODIGO_AUTORIZACION, FECHA_TRANSACCION\n",
    "            FROM CLAP\n",
    "            WHERE TIPO_TRX = 'CANCELADA' OR TIPO_TRX = 'NO APLICA'\n",
    "        )\n",
    "    ) AS Pagos;\n",
    "'''\n",
    "\n",
    "# Utilizamos la función query_dml() para ejecutar la consulta y obtener los resultados.\n",
    "resultado = query_dml(query)\n",
    "\n",
    "# Obtenemos el monto total y la cantidad de transacciones canceladas y \"no aplicables\" a partir de los resultados.\n",
    "cnc_monto_total = resultado[0][0]\n",
    "cnc_cantidad = resultado[0][1]\n",
    "\n",
    "# Creamos un diccionario para almacenar el monto total y la cantidad de transacciones canceladas y \"no aplicables\".\n",
    "clap_nc_monto_totalpagos = {\n",
    "    'Monto total: ': cnc_monto_total,\n",
    "    'Cantidad: ': cnc_cantidad\n",
    "}\n",
    "\n",
    "# Mostramos el diccionario con el monto total y la cantidad de transacciones canceladas y \"no aplicables\".\n",
    "clap_nc_monto_totalpagos\n"
   ]
  },
  {
   "cell_type": "code",
   "execution_count": 222,
   "metadata": {},
   "outputs": [
    {
     "data": {
      "image/png": "[encoded data removed]",
      "text/plain": [
       "<Figure size 1000x500 with 2 Axes>"
      ]
     },
     "metadata": {},
     "output_type": "display_data"
    }
   ],
   "source": [
    "# Importamos la librería matplotlib para generar gráficos\n",
    "import matplotlib.pyplot as plt\n",
    "\n",
    "# Etiquetas y valores\n",
    "labels = ['Conciliadas', 'No conciliadas']\n",
    "bansur_values = [bansur_monto_totalpagos['Cantidad: '], bansur_nc_monto_totalpagos['Cantidad: ']]\n",
    "clap_values = [bansur_monto_totalpagos['Monto total: '], clap_nc_monto_totalpagos['Monto total: ']]\n",
    "\n",
    "# Crear una figura con dos subplots\n",
    "fig, axes = plt.subplots(1, 2, figsize=(10, 5))\n",
    "\n",
    "# Grafico de torta para cantidad\n",
    "cantidad_pie, cantidad_texts, cantidad_autopct = axes[0].pie(bansur_values, labels=labels, autopct='%1.1f%%')\n",
    "axes[0].set_title('BANSUR: Conciliadas - No conciliadas')\n",
    "axes[0].legend(cantidad_pie, labels, title=\"Transacciones\", loc=\"upper right\")\n",
    "\n",
    "# Grafico de torta para monto total\n",
    "monto_pie, monto_texts, monto_autopct = axes[1].pie(clap_values, labels=labels, autopct='%1.1f%%')\n",
    "axes[1].set_title('CLAP: Conciliadas - No conciliadas')\n",
    "axes[1].legend(monto_pie, labels, title=\"Transacciones\", loc=\"upper right\")\n",
    "\n",
    "# Ajustar el diseño y mostrar el gráfico\n",
    "plt.tight_layout()\n",
    "plt.show()\n"
   ]
  },
  {
   "cell_type": "code",
   "execution_count": 177,
   "metadata": {},
   "outputs": [
    {
     "data": {
      "image/png": "[encoded data removed]",
      "text/plain": [
       "<Figure size 1000x500 with 2 Axes>"
      ]
     },
     "metadata": {},
     "output_type": "display_data"
    }
   ],
   "source": [
    "# Etiquetas y valores\n",
    "labels = ['BANSUR', 'CLAP']\n",
    "cantidad_values = [bansur_monto_totalpagos['Cantidad: '], clap_monto_totalpagos['Cantidad: ']]\n",
    "monto_values = [bansur_monto_totalpagos['Monto total: '], clap_monto_totalpagos['Monto total: ']]\n",
    "\n",
    "# Crear una figura con dos subplots\n",
    "fig, axes = plt.subplots(1, 2, figsize=(10, 5))\n",
    "\n",
    "# Gráfico de torta para cantidad\n",
    "cantidad_pie, cantidad_texts, cantidad_autopct = axes[0].pie(cantidad_values, labels=labels, autopct='%1.1f%%')\n",
    "axes[0].set_title('Cantidad de transacciones conciliadas BANSUR - CLAP')\n",
    "axes[0].legend(cantidad_pie, labels, title=\"Transacciones\", loc=\"upper right\")\n",
    "\n",
    "# Gráfico de torta para monto total\n",
    "monto_pie, monto_texts, monto_autopct = axes[1].pie(monto_values, labels=labels, autopct='%1.1f%%')\n",
    "axes[1].set_title('Monto de transacciones conciliadas BANSUR - CLAP')\n",
    "axes[1].legend(monto_pie, labels, title=\"Transacciones\", loc=\"upper right\")\n",
    "\n",
    "# Ajustar el diseño y mostrar el gráfico\n",
    "plt.tight_layout()\n",
    "plt.show()\n"
   ]
  },
  {
   "cell_type": "code",
   "execution_count": 223,
   "metadata": {},
   "outputs": [
    {
     "data": {
      "image/png": "[encoded data removed]",
      "text/plain": [
       "<Figure size 1200x600 with 2 Axes>"
      ]
     },
     "metadata": {},
     "output_type": "display_data"
    }
   ],
   "source": [
    "# Etiquetas y valores para montos\n",
    "labels_montos = ['BANSUR', 'CLAP']\n",
    "values_montos = [abs(bansur_nc_monto_totalpagos['Monto total: ']), clap_nc_monto_totalpagos['Monto total: ']]\n",
    "\n",
    "# Etiquetas y valores para cantidades\n",
    "labels_cantidades = ['BANSUR', 'CLAP']\n",
    "values_cantidades = [bansur_nc_monto_totalpagos['Cantidad: '], clap_nc_monto_totalpagos['Cantidad: ']]\n",
    "\n",
    "# Crear una figura con dos subplots\n",
    "fig, axes = plt.subplots(1, 2, figsize=(12, 6))\n",
    "\n",
    "# Gráfico de torta para montos totales\n",
    "axes[0].pie(values_montos, labels=labels_montos, autopct='%1.1f%%')\n",
    "axes[0].set_title('Montos Totales de Transacciones no conciliadas BANSUR - CLAP')\n",
    "\n",
    "# Gráfico de torta para cantidades\n",
    "axes[1].pie(values_cantidades, labels=labels_cantidades, autopct='%1.1f%%')\n",
    "axes[1].set_title('Cantidades de Transacciones no conciliadas BANSUR - CLAP')\n",
    "\n",
    "# Ajustar el diseño y mostrar el gráfico\n",
    "plt.tight_layout()\n",
    "plt.show()\n"
   ]
  },
  {
   "cell_type": "markdown",
   "metadata": {},
   "source": [
    "### Respuesta\n",
    "\n",
    "A continuación, se presentan los datos relacionados con las transacciones consolidadas y no consolidadas para Bansur y Clap:\n",
    "\n",
    "- **Bansur:**\n",
    "  - Transacciones no consolidadas: **109**, con un monto total de **$3,645**.\n",
    "  - Porcentaje respecto al total de transacciones: **8.6%**.\n",
    "\n",
    "- **Clap:**\n",
    "  - Transacciones no consolidadas: **3,549**, con un monto total de **$5,096,160.97**.\n",
    "  - Porcentaje respecto al total de transacciones: **0.1%**.\n",
    "\n",
    "Además, es importante resaltar:\n",
    "- Bansur tiene un **3.0%** de sus transacciones como no consolidadas, en comparación con Clap, que presenta un aumento del **97%** en la cantidad, equivalente a un monto de **$10,185,031.95**. Esto sugiere que la mayoría de las transacciones no consolidadas no se registran en la base de datos de Bansur.\n",
    "\n",
    "- En detalle, Bansur cuenta con un total de **132,389** transacciones consolidadas, mientras que Clap tiene **147,341** transacciones consolidadas. Estas cifras implican un monto total de **$7,103,026.24**. Esta discrepancia podría indicar una falta de consistencia en el registro de pagos en la base de datos del banco.\n"
   ]
  },
  {
   "cell_type": "markdown",
   "metadata": {},
   "source": [
    "### 4)\n",
    "Teniendo en cuenta los criterios de cruce entre ambas bases conciliables, escriba una sentencia de SQL que contenga la información de CLAP y BANSUR; agregue una columna en la que se evidencie si la transacción cruzó o no con su contrapartida y una columna en la que se inserte un ID autoincremental para el control de la conciliación\n"
   ]
  },
  {
   "cell_type": "markdown",
   "metadata": {},
   "source": [
    "<span style=\"color: green\">**Importante**: Dada la complejidad de la consulta SQL y que probablemente haya algún conflicto con este tipo de consultas en sqlite3 dado que incluyen procedimientos, la respondo por medio de la librería **Pandas**, de **Python**.\n",
    "</span>"
   ]
  },
  {
   "cell_type": "code",
   "execution_count": 224,
   "metadata": {},
   "outputs": [
    {
     "name": "stdout",
     "output_type": "stream",
     "text": [
      "Hubo un error al realizar el query en la base de datos.\n"
     ]
    }
   ],
   "source": [
    "query = '''\n",
    "    SELECT\n",
    "        ROW_NUMBER() OVER (ORDER BY COALESCE(b.FECHA_TRANSACCION, c.FECHA_TRANSACCION)) AS ID_Conciliacion,\n",
    "        COALESCE(b.TARJETA, c.INICIO_TARJETA) AS TARJETA,\n",
    "        COALESCE(b.CODIGO_AUTORIZACION, c.CODIGO_AUTORIZACION) AS CODIGO_AUTORIZACION,\n",
    "        COALESCE(b.FECHA_TRANSACCION, c.FECHA_TRANSACCION) AS FECHA_TRANSACCION,\n",
    "        CASE\n",
    "            WHEN b.TARJETA IS NOT NULL AND c.INICIO_TARJETA IS NOT NULL THEN 'Cruzada'\n",
    "            ELSE 'No Cruzada'\n",
    "        END AS EstadoCruce,\n",
    "        b.MONTO AS Monto_BANSUR,\n",
    "        c.MONTO AS Monto_CLAP\n",
    "    FROM BANSUR b\n",
    "    LEFT JOIN (\n",
    "        SELECT\n",
    "            INICIO_TARJETA, FINAL_TARJETA, CODIGO_AUTORIZACION,\n",
    "            MAX(FECHA_TRANSACCION) AS FECHA_TRANSACCION,\n",
    "            SUM(MONTO) AS MONTO\n",
    "        FROM CLAP\n",
    "        WHERE TIPO_TRX = 'PAGADA'\n",
    "        GROUP BY INICIO_TARJETA, FINAL_TARJETA, CODIGO_AUTORIZACION\n",
    "    ) c ON\n",
    "        b.TARJETA = c.INICIO_TARJETA AND\n",
    "        b.CODIGO_AUTORIZACION = c.CODIGO_AUTORIZACION\n",
    "    WHERE\n",
    "        b.TIPO_TRX = 'PAGO'\n",
    "        OR c.TIPO_TRX = 'PAGADA';\n",
    "'''\n",
    "\n",
    "resultado = query_dml(query)\n",
    "resultado"
   ]
  },
  {
   "cell_type": "code",
   "execution_count": 237,
   "metadata": {},
   "outputs": [],
   "source": [
    "# Combinamos las columnas 'INICIO_TARJETA' y 'FINAL_TARJETA' en la columna 'TARJETA'\n",
    "df_clap['TARJETA'] = df_clap['INICIO_TARJETA'].astype(str) + df_clap['FINAL_TARJETA'].astype(str)\n",
    "\n",
    "# Convertimos los valores de la columna 'TARJETA' a enteros\n",
    "df_clap['TARJETA'] = df_clap['TARJETA'].astype(int)\n"
   ]
  },
  {
   "cell_type": "code",
   "execution_count": null,
   "metadata": {},
   "outputs": [],
   "source": [
    "# Realizar la fusión basada en las columnas comunes\n",
    "df_union = pd.merge(df_clap, df_bansur, \n",
    "                     on=['TARJETA', 'FECHA_TRANSACCION', 'CODIGO_AUTORIZACION'], \n",
    "                     how='inner',\n",
    "                     suffixes=('_clap', '_bansur')) \n",
    "\n",
    "# Filtrar los resultados según el tipo de transacción y la fecha de recepción\n",
    "df_conciliada_filtrado = df_union[\n",
    "    (df_union['TIPO_TRX_clap'].isin(['PAGO', 'PAGADA'])) &\n",
    "    (df_union['TIPO_TRX_bansur'].isin(['PAGO', 'PAGADA']))\n",
    "]\n"
   ]
  },
  {
   "cell_type": "code",
   "execution_count": 273,
   "metadata": {},
   "outputs": [
    {
     "name": "stderr",
     "output_type": "stream",
     "text": [
      "/var/folders/sf/zv8w99hn1570688_wf9y1h280000gn/T/ipykernel_906/2445856769.py:2: SettingWithCopyWarning: \n",
      "A value is trying to be set on a copy of a slice from a DataFrame.\n",
      "Try using .loc[row_indexer,col_indexer] = value instead\n",
      "\n",
      "See the caveats in the documentation: https://pandas.pydata.org/pandas-docs/stable/user_guide/indexing.html#returning-a-view-versus-a-copy\n",
      "  df_conciliada_filtrado['CONCILIADA'] = np.where(\n"
     ]
    },
    {
     "data": {
      "text/html": [
       "<div>\n",
       "<style scoped>\n",
       "    .dataframe tbody tr th:only-of-type {\n",
       "        vertical-align: middle;\n",
       "    }\n",
       "\n",
       "    .dataframe tbody tr th {\n",
       "        vertical-align: top;\n",
       "    }\n",
       "\n",
       "    .dataframe thead th {\n",
       "        text-align: right;\n",
       "    }\n",
       "</style>\n",
       "<table border=\"1\" class=\"dataframe\">\n",
       "  <thead>\n",
       "    <tr style=\"text-align: right;\">\n",
       "      <th></th>\n",
       "      <th>INICIO_TARJETA</th>\n",
       "      <th>FINAL_TARJETA</th>\n",
       "      <th>TIPO_TRX_clap</th>\n",
       "      <th>MONTO_clap</th>\n",
       "      <th>FECHA_TRANSACCION</th>\n",
       "      <th>CODIGO_AUTORIZACION</th>\n",
       "      <th>ID_BANCO</th>\n",
       "      <th>FECHA_RECEPCION_BANCO</th>\n",
       "      <th>FALTANTES_clap</th>\n",
       "      <th>HORA_TRANSACCION</th>\n",
       "      <th>MINUTO_TRANSACCION</th>\n",
       "      <th>TARJETA</th>\n",
       "      <th>TIPO_TRX_bansur</th>\n",
       "      <th>MONTO_bansur</th>\n",
       "      <th>ID_ADQUIRIENTE</th>\n",
       "      <th>FECHA_RECEPCION</th>\n",
       "      <th>FALTANTES_bansur</th>\n",
       "      <th>CONCILIADA</th>\n",
       "    </tr>\n",
       "  </thead>\n",
       "  <tbody>\n",
       "    <tr>\n",
       "      <th>55532</th>\n",
       "      <td>905158</td>\n",
       "      <td>5581</td>\n",
       "      <td>PAGADA</td>\n",
       "      <td>80.0</td>\n",
       "      <td>2020-11-01</td>\n",
       "      <td>076383</td>\n",
       "      <td>8.379367e+11</td>\n",
       "      <td>2020-11-02</td>\n",
       "      <td>COMPLETO</td>\n",
       "      <td>20</td>\n",
       "      <td>57</td>\n",
       "      <td>9051585581</td>\n",
       "      <td>PAGO</td>\n",
       "      <td>80.0</td>\n",
       "      <td>837936693455</td>\n",
       "      <td>2020-11-03</td>\n",
       "      <td>COMPLETO</td>\n",
       "      <td>CONCILIADA</td>\n",
       "    </tr>\n",
       "    <tr>\n",
       "      <th>68604</th>\n",
       "      <td>975488</td>\n",
       "      <td>5827</td>\n",
       "      <td>PAGADA</td>\n",
       "      <td>495.0</td>\n",
       "      <td>2020-11-01</td>\n",
       "      <td>000598</td>\n",
       "      <td>9.038011e+11</td>\n",
       "      <td>2020-11-02</td>\n",
       "      <td>COMPLETO</td>\n",
       "      <td>22</td>\n",
       "      <td>10</td>\n",
       "      <td>9754885827</td>\n",
       "      <td>PAGO</td>\n",
       "      <td>495.0</td>\n",
       "      <td>903801074952</td>\n",
       "      <td>2020-11-03</td>\n",
       "      <td>COMPLETO</td>\n",
       "      <td>CONCILIADA</td>\n",
       "    </tr>\n",
       "    <tr>\n",
       "      <th>37828</th>\n",
       "      <td>404826</td>\n",
       "      <td>3471</td>\n",
       "      <td>PAGADA</td>\n",
       "      <td>72.5</td>\n",
       "      <td>2020-11-01</td>\n",
       "      <td>019428</td>\n",
       "      <td>2.221299e+11</td>\n",
       "      <td>2020-11-02</td>\n",
       "      <td>COMPLETO</td>\n",
       "      <td>19</td>\n",
       "      <td>15</td>\n",
       "      <td>4048263471</td>\n",
       "      <td>PAGO</td>\n",
       "      <td>72.5</td>\n",
       "      <td>222129891270</td>\n",
       "      <td>2020-11-03</td>\n",
       "      <td>COMPLETO</td>\n",
       "      <td>CONCILIADA</td>\n",
       "    </tr>\n",
       "  </tbody>\n",
       "</table>\n",
       "</div>"
      ],
      "text/plain": [
       "       INICIO_TARJETA  FINAL_TARJETA TIPO_TRX_clap  MONTO_clap  \\\n",
       "55532          905158           5581        PAGADA        80.0   \n",
       "68604          975488           5827        PAGADA       495.0   \n",
       "37828          404826           3471        PAGADA        72.5   \n",
       "\n",
       "      FECHA_TRANSACCION CODIGO_AUTORIZACION      ID_BANCO  \\\n",
       "55532        2020-11-01              076383  8.379367e+11   \n",
       "68604        2020-11-01              000598  9.038011e+11   \n",
       "37828        2020-11-01              019428  2.221299e+11   \n",
       "\n",
       "      FECHA_RECEPCION_BANCO FALTANTES_clap  HORA_TRANSACCION  \\\n",
       "55532            2020-11-02       COMPLETO                20   \n",
       "68604            2020-11-02       COMPLETO                22   \n",
       "37828            2020-11-02       COMPLETO                19   \n",
       "\n",
       "       MINUTO_TRANSACCION     TARJETA TIPO_TRX_bansur  MONTO_bansur  \\\n",
       "55532                  57  9051585581            PAGO          80.0   \n",
       "68604                  10  9754885827            PAGO         495.0   \n",
       "37828                  15  4048263471            PAGO          72.5   \n",
       "\n",
       "       ID_ADQUIRIENTE FECHA_RECEPCION FALTANTES_bansur  CONCILIADA  \n",
       "55532    837936693455      2020-11-03         COMPLETO  CONCILIADA  \n",
       "68604    903801074952      2020-11-03         COMPLETO  CONCILIADA  \n",
       "37828    222129891270      2020-11-03         COMPLETO  CONCILIADA  "
      ]
     },
     "execution_count": 273,
     "metadata": {},
     "output_type": "execute_result"
    }
   ],
   "source": [
    "# Agregar una columna 'CONCILIADA' al DataFrame df_conciliada_filtrado utilizando np.where()\n",
    "df_conciliada_filtrado['CONCILIADA'] = np.where(\n",
    "    (df_conciliada_filtrado['TIPO_TRX_clap'].isin(['PAGO', 'PAGADA'])) &\n",
    "    (df_conciliada_filtrado['TIPO_TRX_bansur'].isin(['PAGO', 'PAGADA'])),\n",
    "    'CONCILIADA',\n",
    "    'No conciliada'\n",
    ")\n",
    "\n",
    "# Mostrar una muestra aleatoria de 3 filas del DataFrame df_conciliada_filtrado con una semilla aleatoria fija\n",
    "df_conciliada_filtrado.sample(3, random_state=4)\n"
   ]
  },
  {
   "cell_type": "markdown",
   "metadata": {},
   "source": [
    "#### RESPUESTA\n",
    "\n",
    "El número de pagos conciliados entre la Base de Datos de Clap y Bansur es **86817**.\n"
   ]
  },
  {
   "cell_type": "markdown",
   "metadata": {},
   "source": [
    "## CIERRE BBDD"
   ]
  },
  {
   "cell_type": "code",
   "execution_count": 271,
   "metadata": {},
   "outputs": [],
   "source": [
    "# Cerramos la conexión con la base de datos 'OPERACIONES.db'.\n",
    "db_operaciones.close()\n"
   ]
  }
 ],
 "metadata": {
  "kernelspec": {
   "display_name": "Python 3",
   "language": "python",
   "name": "python3"
  },
  "language_info": {
   "codemirror_mode": {
    "name": "ipython",
    "version": 3
   },
   "file_extension": ".py",
   "mimetype": "text/x-python",
   "name": "python",
   "nbconvert_exporter": "python",
   "pygments_lexer": "ipython3",
   "version": "3.11.4"
  },
  "orig_nbformat": 4
 },
 "nbformat": 4,
 "nbformat_minor": 2
}
