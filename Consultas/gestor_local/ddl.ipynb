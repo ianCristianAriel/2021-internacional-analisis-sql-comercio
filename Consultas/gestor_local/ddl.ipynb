{
 "cells": [
  {
   "cell_type": "markdown",
   "metadata": {},
   "source": [
    "## GENERAL"
   ]
  },
  {
   "cell_type": "markdown",
   "metadata": {},
   "source": [
    "### LIBRERIAS"
   ]
  },
  {
   "cell_type": "code",
   "execution_count": 35,
   "metadata": {},
   "outputs": [],
   "source": [
    "# Importo las librerías necesarias\n",
    "import sqlite3  # Para trabajar con bases de datos SQLite"
   ]
  },
  {
   "cell_type": "markdown",
   "metadata": {},
   "source": [
    "## QUERIES DDL"
   ]
  },
  {
   "cell_type": "code",
   "execution_count": 36,
   "metadata": {},
   "outputs": [],
   "source": [
    "def query_ddl(query):\n",
    "    try:\n",
    "        # Utiliza el cursor para ejecutar la consulta.\n",
    "        cursor.executescript(query)\n",
    "\n",
    "        # No hay necesidad de obtener registros en una consulta DDL. Puedes eliminar esta parte.\n",
    "        print('Query ejecutado con éxito.')\n",
    "\n",
    "    except:\n",
    "        print('La consulta falló, revise su sintaxis y estructura.')"
   ]
  },
  {
   "cell_type": "markdown",
   "metadata": {},
   "source": [
    "## BBDD INUPDE"
   ]
  },
  {
   "cell_type": "markdown",
   "metadata": {},
   "source": [
    "### CREACION BBDD"
   ]
  },
  {
   "cell_type": "code",
   "execution_count": 37,
   "metadata": {},
   "outputs": [],
   "source": [
    "db_inupde = sqlite3.connect('../../Datos/gestores_locales/INUPDE.db')\n",
    "cursor = db_inupde.cursor()"
   ]
  },
  {
   "cell_type": "markdown",
   "metadata": {},
   "source": [
    "#### CREACION TABLA CLIENTES"
   ]
  },
  {
   "cell_type": "code",
   "execution_count": 38,
   "metadata": {},
   "outputs": [
    {
     "name": "stdout",
     "output_type": "stream",
     "text": [
      "Query ejecutado con éxito.\n"
     ]
    }
   ],
   "source": [
    "query = '''\n",
    "    DROP TABLE IF EXISTS clientes;\n",
    "    CREATE TABLE clientes (\n",
    "    id_cliente INTEGER PRIMARY KEY,\n",
    "    dni TEXT UNIQUE NOT NULL,\n",
    "    nombre TEXT NOT NULL,\n",
    "    apellido TEXT NOT NULL,\n",
    "    genero TEXT CHECK (genero IN ('MUJER', 'HOMBRE')) NOT NULL,\n",
    "    fecha_nacimiento DATE NOT NULL,\n",
    "    mail TEXT NOT NULL,\n",
    "    movil TEXT NOT NULL,\n",
    "    domicilio TEXT NOT NULL,\n",
    "    barrio TEXT NOT NULL,\n",
    "    nacionalidad TEXT NOT NULL\n",
    "    );\n",
    "'''\n",
    "\n",
    "query_ddl(query)\n"
   ]
  },
  {
   "cell_type": "markdown",
   "metadata": {},
   "source": [
    "### CIERRE DE CONEXION BBDD INUPDE"
   ]
  },
  {
   "cell_type": "code",
   "execution_count": 39,
   "metadata": {},
   "outputs": [],
   "source": [
    "db_inupde.commit()\n",
    "db_inupde.close()"
   ]
  },
  {
   "cell_type": "markdown",
   "metadata": {},
   "source": [
    "## BBDD WORLD\n"
   ]
  },
  {
   "cell_type": "markdown",
   "metadata": {},
   "source": [
    "### CREACION BBDD"
   ]
  },
  {
   "cell_type": "code",
   "execution_count": 40,
   "metadata": {},
   "outputs": [],
   "source": [
    "# Establezco la conexión a la base de datos 'OPERACIONES.db' y creo un cursor\n",
    "db_world = sqlite3.connect('../../datos/gestores_locales/operaciones.db')\n",
    "cursor = db_world.cursor()"
   ]
  },
  {
   "cell_type": "markdown",
   "metadata": {},
   "source": [
    "#### CREACION TABLA CITY"
   ]
  },
  {
   "cell_type": "code",
   "execution_count": 41,
   "metadata": {},
   "outputs": [
    {
     "name": "stdout",
     "output_type": "stream",
     "text": [
      "Query ejecutado con éxito.\n"
     ]
    }
   ],
   "source": [
    "# Creo una tabla en la base de datos 'OPERACIONES.db' si no existe\n",
    "query = '''\n",
    "    -- Table structure for table 'city'\n",
    "\n",
    "    -- Elimina la tabla si existe\n",
    "    DROP TABLE IF EXISTS city;\n",
    "\n",
    "    -- Crea la tabla city\n",
    "    CREATE TABLE city (\n",
    "    ID INTEGER PRIMARY KEY,\n",
    "    Name TEXT NOT NULL DEFAULT '',\n",
    "    CountryCode TEXT NOT NULL DEFAULT '',\n",
    "    District TEXT NOT NULL DEFAULT '',\n",
    "    Population INTEGER NOT NULL DEFAULT 0,\n",
    "    FOREIGN KEY (CountryCode) REFERENCES country (Code)\n",
    ");\n",
    "'''\n",
    "\n",
    "# Luego puedes usar la función query_ddl para ejecutar esta consulta.\n",
    "query_ddl(query)"
   ]
  },
  {
   "cell_type": "markdown",
   "metadata": {},
   "source": [
    "#### CREACION TABLA COUNTRY"
   ]
  },
  {
   "cell_type": "code",
   "execution_count": 42,
   "metadata": {},
   "outputs": [
    {
     "name": "stdout",
     "output_type": "stream",
     "text": [
      "Query ejecutado con éxito.\n"
     ]
    }
   ],
   "source": [
    "query = '''\n",
    "-- Table structure for table 'country'\n",
    "\n",
    "-- Elimina la tabla si existe\n",
    "DROP TABLE IF EXISTS country;\n",
    "\n",
    "-- Crea la tabla country\n",
    "CREATE TABLE country (\n",
    "  Code TEXT NOT NULL DEFAULT '',\n",
    "  Name TEXT NOT NULL DEFAULT '',\n",
    "  Continent TEXT NOT NULL DEFAULT 'Asia' CHECK (Continent IN ('Asia', 'Europe', 'North America', 'Africa', 'Oceania', 'Antarctica', 'South America')),\n",
    "  Region TEXT NOT NULL DEFAULT '',\n",
    "  SurfaceArea REAL NOT NULL DEFAULT 0.00,\n",
    "  IndepYear INTEGER,\n",
    "  Population INTEGER NOT NULL DEFAULT 0,\n",
    "  LifeExpectancy REAL,\n",
    "  GNP REAL,\n",
    "  GNPOld REAL,\n",
    "  LocalName TEXT NOT NULL DEFAULT '',\n",
    "  GovernmentForm TEXT NOT NULL DEFAULT '',\n",
    "  HeadOfState TEXT,\n",
    "  Capital INTEGER,\n",
    "  Code2 TEXT NOT NULL DEFAULT '',\n",
    "  PRIMARY KEY (Code)\n",
    ");\n",
    "'''\n",
    "\n",
    "# Luego puedes usar la función query_ddl para ejecutar esta consulta.\n",
    "query_ddl(query)\n"
   ]
  },
  {
   "cell_type": "markdown",
   "metadata": {},
   "source": [
    "#### CREACION TABLA COUNTRY LANGUAGE"
   ]
  },
  {
   "cell_type": "code",
   "execution_count": 43,
   "metadata": {},
   "outputs": [
    {
     "name": "stdout",
     "output_type": "stream",
     "text": [
      "Query ejecutado con éxito.\n"
     ]
    }
   ],
   "source": [
    "query = '''\n",
    "-- Table structure for table 'countrylanguage'\n",
    "\n",
    "-- Elimina la tabla si existe\n",
    "DROP TABLE IF EXISTS countrylanguage;\n",
    "\n",
    "-- Crea la tabla countrylanguage\n",
    "CREATE TABLE countrylanguage (\n",
    "  CountryCode TEXT NOT NULL DEFAULT '',\n",
    "  Language TEXT NOT NULL DEFAULT '',\n",
    "  IsOfficial TEXT NOT NULL DEFAULT 'F' CHECK (IsOfficial IN ('T', 'F')),\n",
    "  Percentage REAL NOT NULL DEFAULT 0.0,\n",
    "  PRIMARY KEY (CountryCode, Language),\n",
    "  FOREIGN KEY (CountryCode) REFERENCES country (Code)\n",
    ");\n",
    "'''\n",
    "\n",
    "# Luego puedes usar la función query_ddl para ejecutar esta consulta.\n",
    "query_ddl(query)\n"
   ]
  },
  {
   "cell_type": "markdown",
   "metadata": {},
   "source": [
    "### CIERRE DE CONEXION BBDD WORLD"
   ]
  },
  {
   "cell_type": "code",
   "execution_count": 44,
   "metadata": {},
   "outputs": [],
   "source": [
    "db_world.commit()\n",
    "db_world.close()"
   ]
  }
 ],
 "metadata": {
  "kernelspec": {
   "display_name": "Python 3",
   "language": "python",
   "name": "python3"
  },
  "language_info": {
   "codemirror_mode": {
    "name": "ipython",
    "version": 3
   },
   "file_extension": ".py",
   "mimetype": "text/x-python",
   "name": "python",
   "nbconvert_exporter": "python",
   "pygments_lexer": "ipython3",
   "version": "3.11.4"
  }
 },
 "nbformat": 4,
 "nbformat_minor": 2
}
